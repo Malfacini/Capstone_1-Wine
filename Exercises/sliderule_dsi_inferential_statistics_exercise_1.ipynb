{
 "cells": [
  {
   "cell_type": "markdown",
   "metadata": {},
   "source": [
    "# What is the True Normal Human Body Temperature? \n",
    "\n",
    "#### Background\n",
    "\n",
    "The mean normal body temperature was held to be 37$^{\\circ}$C or 98.6$^{\\circ}$F for more than 120 years since it was first conceptualized and reported by Carl Wunderlich in a famous 1868 book. But, is this value statistically correct?"
   ]
  },
  {
   "cell_type": "markdown",
   "metadata": {},
   "source": [
    "<h3>Exercises</h3>\n",
    "\n",
    "<p>In this exercise, you will analyze a dataset of human body temperatures and employ the concepts of hypothesis testing, confidence intervals, and statistical significance.</p>\n",
    "\n",
    "<p>Answer the following questions <b>in this notebook below and submit to your Github account</b>.</p> \n",
    "\n",
    "<ol>\n",
    "<li>  Is the distribution of body temperatures normal? \n",
    "    <ul>\n",
    "    <li> Although this is not a requirement for CLT to hold (read CLT carefully), it gives us some peace of mind that the population may also be normally distributed if we assume that this sample is representative of the population.\n",
    "    </ul>\n",
    "<li>  Is the sample size large? Are the observations independent?\n",
    "    <ul>\n",
    "    <li> Remember that this is a condition for the CLT, and hence the statistical tests we are using, to apply.\n",
    "    </ul>\n",
    "<li>  Is the true population mean really 98.6 degrees F?\n",
    "    <ul>\n",
    "    <li> Would you use a one-sample or two-sample test? Why?\n",
    "    <li> In this situation, is it appropriate to use the $t$ or $z$ statistic? \n",
    "    <li> Now try using the other test. How is the result be different? Why?\n",
    "    </ul>\n",
    "<li>  Draw a small sample of size 10 from the data and repeat both tests. \n",
    "    <ul>\n",
    "    <li> Which one is the correct one to use? \n",
    "    <li> What do you notice? What does this tell you about the difference in application of the $t$ and $z$ statistic?\n",
    "    </ul>\n",
    "<li>  At what temperature should we consider someone's temperature to be \"abnormal\"?\n",
    "    <ul>\n",
    "    <li> Start by computing the margin of error and confidence interval.\n",
    "    </ul>\n",
    "<li>  Is there a significant difference between males and females in normal temperature?\n",
    "    <ul>\n",
    "    <li> What test did you use and why?\n",
    "    <li> Write a story with your conclusion in the context of the original problem.\n",
    "    </ul>\n",
    "</ol>\n",
    "\n",
    "You can include written notes in notebook cells using Markdown: \n",
    "   - In the control panel at the top, choose Cell > Cell Type > Markdown\n",
    "   - Markdown syntax: http://nestacms.com/docs/creating-content/markdown-cheat-sheet\n",
    "\n",
    "#### Resources\n",
    "\n",
    "+ Information and data sources: http://www.amstat.org/publications/jse/datasets/normtemp.txt, http://www.amstat.org/publications/jse/jse_data_archive.htm\n",
    "+ Markdown syntax: http://nestacms.com/docs/creating-content/markdown-cheat-sheet\n",
    "\n",
    "****"
   ]
  },
  {
   "cell_type": "code",
   "execution_count": 1,
   "metadata": {
    "collapsed": true
   },
   "outputs": [],
   "source": [
    "import pandas as pd\n",
    "import numpy as np\n",
    "import seaborn as sns\n",
    "import matplotlib.pyplot as plt\n",
    "from scipy import stats\n",
    "\n",
    "df = pd.read_csv('data/human_body_temperature.csv')"
   ]
  },
  {
   "cell_type": "code",
   "execution_count": 2,
   "metadata": {},
   "outputs": [
    {
     "data": {
      "text/html": [
       "<div>\n",
       "<style>\n",
       "    .dataframe thead tr:only-child th {\n",
       "        text-align: right;\n",
       "    }\n",
       "\n",
       "    .dataframe thead th {\n",
       "        text-align: left;\n",
       "    }\n",
       "\n",
       "    .dataframe tbody tr th {\n",
       "        vertical-align: top;\n",
       "    }\n",
       "</style>\n",
       "<table border=\"1\" class=\"dataframe\">\n",
       "  <thead>\n",
       "    <tr style=\"text-align: right;\">\n",
       "      <th></th>\n",
       "      <th>temperature</th>\n",
       "      <th>gender</th>\n",
       "      <th>heart_rate</th>\n",
       "    </tr>\n",
       "  </thead>\n",
       "  <tbody>\n",
       "    <tr>\n",
       "      <th>0</th>\n",
       "      <td>99.3</td>\n",
       "      <td>F</td>\n",
       "      <td>68.0</td>\n",
       "    </tr>\n",
       "    <tr>\n",
       "      <th>1</th>\n",
       "      <td>98.4</td>\n",
       "      <td>F</td>\n",
       "      <td>81.0</td>\n",
       "    </tr>\n",
       "    <tr>\n",
       "      <th>2</th>\n",
       "      <td>97.8</td>\n",
       "      <td>M</td>\n",
       "      <td>73.0</td>\n",
       "    </tr>\n",
       "    <tr>\n",
       "      <th>3</th>\n",
       "      <td>99.2</td>\n",
       "      <td>F</td>\n",
       "      <td>66.0</td>\n",
       "    </tr>\n",
       "    <tr>\n",
       "      <th>4</th>\n",
       "      <td>98.0</td>\n",
       "      <td>F</td>\n",
       "      <td>73.0</td>\n",
       "    </tr>\n",
       "  </tbody>\n",
       "</table>\n",
       "</div>"
      ],
      "text/plain": [
       "   temperature gender  heart_rate\n",
       "0         99.3      F        68.0\n",
       "1         98.4      F        81.0\n",
       "2         97.8      M        73.0\n",
       "3         99.2      F        66.0\n",
       "4         98.0      F        73.0"
      ]
     },
     "execution_count": 2,
     "metadata": {},
     "output_type": "execute_result"
    }
   ],
   "source": [
    "df.head()"
   ]
  },
  {
   "cell_type": "code",
   "execution_count": 3,
   "metadata": {},
   "outputs": [
    {
     "name": "stdout",
     "output_type": "stream",
     "text": [
      "<class 'pandas.core.frame.DataFrame'>\n",
      "RangeIndex: 130 entries, 0 to 129\n",
      "Data columns (total 3 columns):\n",
      "temperature    130 non-null float64\n",
      "gender         130 non-null object\n",
      "heart_rate     130 non-null float64\n",
      "dtypes: float64(2), object(1)\n",
      "memory usage: 3.1+ KB\n"
     ]
    }
   ],
   "source": [
    "df.info()"
   ]
  },
  {
   "cell_type": "code",
   "execution_count": 4,
   "metadata": {
    "collapsed": true
   },
   "outputs": [],
   "source": [
    "# create a function to calculate data's ecdf\n",
    "def ecdf(data):\n",
    "    \"\"\"Function returns the ecdf of a 1d array.\"\"\"\n",
    "    n = len(data)\n",
    "    x = np.sort(data)\n",
    "    y = np.arange(1, n+1) / n\n",
    "    return x, y"
   ]
  },
  {
   "cell_type": "code",
   "execution_count": 5,
   "metadata": {},
   "outputs": [
    {
     "data": {
      "image/png": "[encoded data removed]",
      "text/plain": [
       "<matplotlib.figure.Figure at 0x1a110c7a20>"
      ]
     },
     "metadata": {},
     "output_type": "display_data"
    }
   ],
   "source": [
    "x, y = ecdf(df.temperature)\n",
    "\n",
    "_ = plt.plot(x, y, marker='.', linestyle='none')\n",
    "_ = plt.xlabel('Body Temperature')\n",
    "_ = plt.ylabel('ECDF')\n",
    "_ = plt.title('Body Temperature ECDF')\n",
    "_ = plt.margins(0.02)\n",
    "\n",
    "# Create a normal distribution and lay it on top of the ECDF to check if it's a normal distribution.\n",
    "\n",
    "np.random.seed(123)\n",
    "body_temp_mean = np.mean(df.temperature)\n",
    "body_temp_std = np.std(df.temperature)\n",
    "sample_normal = np.random.normal(body_temp_mean, body_temp_std, size=10000)\n",
    "x_sample_normal, y_sample_normal = ecdf(sample_normal)\n",
    "\n",
    "_ = plt.plot(x_sample_normal, y_sample_normal)\n",
    "_ = plt.margins(0.02)\n",
    "\n",
    "plt.show()\n",
    "plt.clf()"
   ]
  },
  {
   "cell_type": "code",
   "execution_count": 6,
   "metadata": {},
   "outputs": [
    {
     "data": {
      "text/plain": [
       "130"
      ]
     },
     "execution_count": 6,
     "metadata": {},
     "output_type": "execute_result"
    }
   ],
   "source": [
    "len(df.temperature)\n",
    "\n",
    "# 2. Is the sample size large? Are the observations independent?\n",
    "# A large dataset is said to be over 30. We have 130 observations in this observation, therefore the sample\n",
    "# size is considered large. The observations are independent given that the body temperature of one individual\n",
    "# is not dependent on another persons."
   ]
  },
  {
   "cell_type": "markdown",
   "metadata": {},
   "source": [
    "### 3. Is the true population mean really 98.6 degrees F?\n",
    "*   Would you use a one-sample or two-sample test? Why?\n",
    "*   In this situation, is it appropriate to use the  tt  or  zz  statistic?\n",
    "*   Now try using the other test. How is the result be different? Why?"
   ]
  },
  {
   "cell_type": "code",
   "execution_count": 7,
   "metadata": {},
   "outputs": [
    {
     "name": "stdout",
     "output_type": "stream",
     "text": [
      "t-score: -5.45482329236\n",
      "p-value: 2.41063204156e-07\n"
     ]
    }
   ],
   "source": [
    "# You'd use a one-sample test in this scenario since we're dealing with a single set of observations. Body temperature.\n",
    "# In this situation it is appropriate to use the t statistic since we do not have the population standard deviation\n",
    "\n",
    "t, p = stats.ttest_1samp(df.temperature, 98.6)\n",
    "\n",
    "print('t-score:', t)\n",
    "print('p-value:', p)"
   ]
  },
  {
   "cell_type": "code",
   "execution_count": 8,
   "metadata": {
    "collapsed": true
   },
   "outputs": [],
   "source": [
    "# How is the result different if we use a z-test?\n",
    "\n",
    "# Define a z-test function\n",
    "def get_z(data, population):\n",
    "    \"\"\"Get the z-score.\"\"\"\n",
    "    return (population - np.mean(data)) / np.std(data)\n",
    "\n",
    "# Since we don't have the population standard deviation, I'll create bootstrap replicate to draw an approximate\n",
    "# standard deviation for the population\n",
    "\n",
    "# Define bootstrap replicate functions:\n",
    "def bs_replicate_1d(data, func):\n",
    "    bs_sample = np.random.choice(data, len(data))\n",
    "    return func(bs_sample)\n",
    "\n",
    "def draw_bs_reps(data, func, size=1):\n",
    "    \"\"\"Draw boostrap replicates.\"\"\"\n",
    "    bs_replicates = np.empty(size)\n",
    "    for i in range(size):\n",
    "        bs_replicates[i] = bs_replicate_1d(data, func)\n",
    "    return bs_replicates"
   ]
  },
  {
   "cell_type": "code",
   "execution_count": 9,
   "metadata": {},
   "outputs": [
    {
     "name": "stdout",
     "output_type": "stream",
     "text": [
      "z-score: 5.43169010165\n"
     ]
    }
   ],
   "source": [
    "np.random.seed(123)\n",
    "sample = draw_bs_reps(df.temperature, np.mean, size=10000)\n",
    "z = get_z(sample, 98.6)\n",
    "print('z-score:', z)\n",
    "\n",
    "# There's not much difference between the t-score and the z-score, leading us to believe that the true\n",
    "# population mean for body temperature is fact not 98.6F."
   ]
  },
  {
   "cell_type": "markdown",
   "metadata": {},
   "source": [
    "### 4. Draw a small sample of size 10 from the data and repeat both tests.\n",
    "* Which one is the correct one to use?\n",
    "* What do you notice? What does this tell you about the difference in application of the  t  and  z  statistic?"
   ]
  },
  {
   "cell_type": "code",
   "execution_count": 10,
   "metadata": {},
   "outputs": [
    {
     "name": "stdout",
     "output_type": "stream",
     "text": [
      "t-score: -1.68253820663\n",
      "p-value: 0.126757360269\n",
      "z-score: 1.80487357297\n"
     ]
    }
   ],
   "source": [
    "np.random.seed(123)\n",
    "\n",
    "# Draw a small sample size of ten entries from the original observations.\n",
    "ten_sample = np.random.choice(df.temperature, size=10)\n",
    "ten_sample_bs_replicate = draw_bs_reps(ten_sample, np.mean, size=10000)\n",
    "\n",
    "# Find the t-score and the p-value from the smaller sample size\n",
    "t_ten, p_ten = stats.ttest_1samp(ten_sample, 98.6)\n",
    "\n",
    "print('t-score:', t_ten)\n",
    "print('p-value:', p_ten)\n",
    "\n",
    "# Find the z-score from the bootstrap replicate of the smaller sample size.\n",
    "z_ten = get_z(ten_sample_bs_replicate, 98.6)\n",
    "\n",
    "print('z-score:', z_ten)"
   ]
  },
  {
   "cell_type": "markdown",
   "metadata": {},
   "source": [
    "### 5. At what temperature should we consider someone's temperature to be \"abnormal\"?\n",
    "* Start by computing the margin of error and confidence interval."
   ]
  },
  {
   "cell_type": "code",
   "execution_count": 11,
   "metadata": {},
   "outputs": [
    {
     "name": "stdout",
     "output_type": "stream",
     "text": [
      "conf_int_95: [ 96.7225  99.4775]\n",
      "conf_int_99: [  96.3645  100.284 ]\n"
     ]
    }
   ],
   "source": [
    "conf_int_95 = np.percentile(df.temperature, [2.5, 97.5])\n",
    "print('conf_int_95:', conf_int_95)\n",
    "\n",
    "conf_int_99 = np.percentile(df.temperature, [0.5, 99.5])\n",
    "print('conf_int_99:', conf_int_99)"
   ]
  },
  {
   "cell_type": "markdown",
   "metadata": {},
   "source": [
    "The 95% confidence interval tells us that any value that falls outside of 96.72F and 99.48F should be considered \"abnormal.\""
   ]
  },
  {
   "cell_type": "code",
   "execution_count": 12,
   "metadata": {},
   "outputs": [
    {
     "data": {
      "image/png": "[encoded data removed]",
      "text/plain": [
       "<matplotlib.figure.Figure at 0x1a19394b70>"
      ]
     },
     "metadata": {},
     "output_type": "display_data"
    }
   ],
   "source": [
    "low_end_95, high_end_95 = conf_int_95\n",
    "\n",
    "# Plot a histogram with the data alongside it's confidence intervals.\n",
    "_ = plt.hist(df.temperature, bins=11, normed=True)\n",
    "_ = plt.xlabel('Body Temperature in F')\n",
    "_ = plt.title('Body Temperature 95th percentile')\n",
    "_ = plt.margins(0.05)\n",
    "\n",
    "# Vertical Lines\n",
    "_ = plt.vlines(body_temp_mean, 0, .6, colors='red')\n",
    "_ = plt.text(body_temp_mean, 0.61, 'Mu')\n",
    "_ = plt.vlines(low_end_95, 0, .4) # 95th percentile, low end\n",
    "_ = plt.text(low_end_95, 0.41, '2.5 Percentile')\n",
    "_ = plt.vlines(high_end_95, 0, .4) # 95th percentile, high end\n",
    "_ = plt.text(high_end_95, 0.41, '97.5 Percentile')\n",
    "\n",
    "\n",
    "plt.show()\n",
    "plt.clf()"
   ]
  },
  {
   "cell_type": "code",
   "execution_count": 13,
   "metadata": {},
   "outputs": [
    {
     "name": "stdout",
     "output_type": "stream",
     "text": [
      "96.7225\n"
     ]
    }
   ],
   "source": [
    "print(low_end_95)"
   ]
  },
  {
   "cell_type": "code",
   "execution_count": 14,
   "metadata": {},
   "outputs": [
    {
     "name": "stdout",
     "output_type": "stream",
     "text": [
      "99.4775\n"
     ]
    }
   ],
   "source": [
    "print(high_end_95)"
   ]
  },
  {
   "cell_type": "markdown",
   "metadata": {},
   "source": [
    "### 6. Is there a significant difference between males and females in normal temperature?\n",
    "* What test did you use and why?\n",
    "* Write a story with your conclusion in the context of the original problem."
   ]
  },
  {
   "cell_type": "code",
   "execution_count": 15,
   "metadata": {},
   "outputs": [
    {
     "data": {
      "image/png": "[encoded data removed]",
      "text/plain": [
       "<matplotlib.figure.Figure at 0x1a19492c88>"
      ]
     },
     "metadata": {},
     "output_type": "display_data"
    }
   ],
   "source": [
    "# use permutation to calculate if there is a difference between \n",
    "# males and females.\n",
    "\n",
    "# Separate observations by gender\n",
    "males = df[df.gender == 'M']\n",
    "females = df[df.gender == 'F']\n",
    "\n",
    "\n",
    "# Compute ECDF for Males and Females\n",
    "x_male, y_male = ecdf(males.temperature)\n",
    "x_female, y_female = ecdf(females.temperature)\n",
    "\n",
    "# Plot each gender's ecdf on the same graph\n",
    "_ = plt.plot(x_male, y_male, marker='.', linestyle='none') # Male ECDF\n",
    "_ = plt.plot(x_female, y_female, marker='.', linestyle='none') # Female ECDF\n",
    "\n",
    "# Labels\n",
    "_ = plt.xlabel('Body Temperature')\n",
    "_ = plt.ylabel('ECDF')\n",
    "_ = plt.title('Body Temperature ECDF')\n",
    "_ = plt.legend(['Male', 'Female'], loc='lower right')\n",
    "plt.margins(0.02)\n",
    "\n",
    "# Plot\n",
    "plt.show()\n",
    "plt.clf()"
   ]
  },
  {
   "cell_type": "markdown",
   "metadata": {},
   "source": [
    "Looking at the graphical representation of each gender's body temperature, on average, males tend to have a slightly lower body temperature compared to females. Let's look for the P-value of the two samples in order to be sure.\n",
    "\n",
    "The null hyphotesis in this case is that males and females have identical body temperatures."
   ]
  },
  {
   "cell_type": "code",
   "execution_count": 16,
   "metadata": {
    "collapsed": true
   },
   "outputs": [],
   "source": [
    "n_trials = 1000\n",
    "m_temp_means, f_temp_means = np.empty(n_trials), np.empty(n_trials)"
   ]
  },
  {
   "cell_type": "code",
   "execution_count": 17,
   "metadata": {
    "collapsed": true
   },
   "outputs": [],
   "source": [
    "m_temps = df[df['gender']=='M']['temperature']\n",
    "f_temps = df[df['gender']=='F']['temperature']"
   ]
  },
  {
   "cell_type": "code",
   "execution_count": 18,
   "metadata": {
    "collapsed": true
   },
   "outputs": [],
   "source": [
    "for i in range(n_trials):\n",
    "    m_temp_means[i] = np.mean(np.random.choice(m_temps, len(m_temps)))\n",
    "    f_temp_means[i] = np.mean(np.random.choice(f_temps,len(f_temps)))"
   ]
  },
  {
   "cell_type": "code",
   "execution_count": 19,
   "metadata": {},
   "outputs": [
    {
     "name": "stdout",
     "output_type": "stream",
     "text": [
      "P-Value: 0.0\n"
     ]
    }
   ],
   "source": [
    "pvalue = stats.ttest_ind(m_temp_means, f_temp_means)[1]\n",
    "print('P-Value:', pvalue)"
   ]
  },
  {
   "cell_type": "markdown",
   "metadata": {},
   "source": [
    "P-value is 0.0, which means we can reject the null hypothesis stating that male and female body temperatures are equal on average."
   ]
  }
 ],
 "metadata": {
  "kernelspec": {
   "display_name": "Python 3",
   "language": "python",
   "name": "python3"
  },
  "language_info": {
   "codemirror_mode": {
    "name": "ipython",
    "version": 3
   },
   "file_extension": ".py",
   "mimetype": "text/x-python",
   "name": "python",
   "nbconvert_exporter": "python",
   "pygments_lexer": "ipython3",
   "version": "3.6.3"
  }
 },
 "nbformat": 4,
 "nbformat_minor": 1
}
