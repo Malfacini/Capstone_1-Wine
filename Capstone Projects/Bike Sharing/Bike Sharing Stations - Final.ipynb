{
 "cells": [
  {
   "cell_type": "code",
   "execution_count": 1,
   "metadata": {},
   "outputs": [
    {
     "data": {
      "text/html": [
       "<style>.container { width:80% !important; }</style>"
      ],
      "text/plain": [
       "<IPython.core.display.HTML object>"
      ]
     },
     "metadata": {},
     "output_type": "display_data"
    }
   ],
   "source": [
    "import pandas as pd\n",
    "import numpy as np\n",
    "import matplotlib.pyplot as plt\n",
    "import seaborn as sns\n",
    "import re\n",
    "import plotly.plotly as py\n",
    "from plotly.graph_objs import *\n",
    "import plotly\n",
    "from plotly.offline import download_plotlyjs, init_notebook_mode, plot, iplot\n",
    "\n",
    "from bokeh.io import show, output_file, output_notebook\n",
    "from bokeh.models import FactorRange\n",
    "from bokeh.plotting import figure\n",
    "\n",
    "from collections import defaultdict\n",
    "\n",
    "from IPython.core.display import display, HTML\n",
    "display(HTML(\"<style>.container { width:80% !important; }</style>\"))\n",
    "\n",
    "plt.rcParams['figure.figsize'] = (15, 6)"
   ]
  },
  {
   "cell_type": "markdown",
   "metadata": {},
   "source": [
    "There are four different .csv files for this project:\n",
    "* **station.csv** - this reflects the different bike sharing stations in the bay area, including station name, coordinates, capacity, city, and installation date\n",
    "* **trip.csv** - this includes dates and routes for trips taken over a two-year period between Aug-2013 and Aug-2015\n",
    "* **weather.csv** - this provides weather information for different zip codes over the same period of time as the trip.csv table\n",
    "* **status.csv** - this includes minute by minute bike availability information for each of the 35 stations."
   ]
  },
  {
   "cell_type": "markdown",
   "metadata": {},
   "source": [
    "# Read in and clean data"
   ]
  },
  {
   "cell_type": "markdown",
   "metadata": {},
   "source": [
    "### Station"
   ]
  },
  {
   "cell_type": "code",
   "execution_count": 2,
   "metadata": {
    "collapsed": true
   },
   "outputs": [],
   "source": [
    "station = pd.read_csv('data/station.csv', parse_dates = ['installation_date'])"
   ]
  },
  {
   "cell_type": "code",
   "execution_count": 3,
   "metadata": {},
   "outputs": [
    {
     "data": {
      "text/html": [
       "<div>\n",
       "<style scoped>\n",
       "    .dataframe tbody tr th:only-of-type {\n",
       "        vertical-align: middle;\n",
       "    }\n",
       "\n",
       "    .dataframe tbody tr th {\n",
       "        vertical-align: top;\n",
       "    }\n",
       "\n",
       "    .dataframe thead th {\n",
       "        text-align: right;\n",
       "    }\n",
       "</style>\n",
       "<table border=\"1\" class=\"dataframe\">\n",
       "  <thead>\n",
       "    <tr style=\"text-align: right;\">\n",
       "      <th></th>\n",
       "      <th>id</th>\n",
       "      <th>name</th>\n",
       "      <th>lat</th>\n",
       "      <th>long</th>\n",
       "      <th>dock_count</th>\n",
       "      <th>city</th>\n",
       "      <th>installation_date</th>\n",
       "    </tr>\n",
       "  </thead>\n",
       "  <tbody>\n",
       "    <tr>\n",
       "      <th>0</th>\n",
       "      <td>2</td>\n",
       "      <td>San Jose Diridon Caltrain Station</td>\n",
       "      <td>37.329732</td>\n",
       "      <td>-121.901782</td>\n",
       "      <td>27</td>\n",
       "      <td>San Jose</td>\n",
       "      <td>2013-08-06</td>\n",
       "    </tr>\n",
       "    <tr>\n",
       "      <th>1</th>\n",
       "      <td>3</td>\n",
       "      <td>San Jose Civic Center</td>\n",
       "      <td>37.330698</td>\n",
       "      <td>-121.888979</td>\n",
       "      <td>15</td>\n",
       "      <td>San Jose</td>\n",
       "      <td>2013-08-05</td>\n",
       "    </tr>\n",
       "    <tr>\n",
       "      <th>2</th>\n",
       "      <td>4</td>\n",
       "      <td>Santa Clara at Almaden</td>\n",
       "      <td>37.333988</td>\n",
       "      <td>-121.894902</td>\n",
       "      <td>11</td>\n",
       "      <td>San Jose</td>\n",
       "      <td>2013-08-06</td>\n",
       "    </tr>\n",
       "    <tr>\n",
       "      <th>3</th>\n",
       "      <td>5</td>\n",
       "      <td>Adobe on Almaden</td>\n",
       "      <td>37.331415</td>\n",
       "      <td>-121.893200</td>\n",
       "      <td>19</td>\n",
       "      <td>San Jose</td>\n",
       "      <td>2013-08-05</td>\n",
       "    </tr>\n",
       "    <tr>\n",
       "      <th>4</th>\n",
       "      <td>6</td>\n",
       "      <td>San Pedro Square</td>\n",
       "      <td>37.336721</td>\n",
       "      <td>-121.894074</td>\n",
       "      <td>15</td>\n",
       "      <td>San Jose</td>\n",
       "      <td>2013-08-07</td>\n",
       "    </tr>\n",
       "  </tbody>\n",
       "</table>\n",
       "</div>"
      ],
      "text/plain": [
       "   id                               name        lat        long  dock_count  \\\n",
       "0   2  San Jose Diridon Caltrain Station  37.329732 -121.901782          27   \n",
       "1   3              San Jose Civic Center  37.330698 -121.888979          15   \n",
       "2   4             Santa Clara at Almaden  37.333988 -121.894902          11   \n",
       "3   5                   Adobe on Almaden  37.331415 -121.893200          19   \n",
       "4   6                   San Pedro Square  37.336721 -121.894074          15   \n",
       "\n",
       "       city installation_date  \n",
       "0  San Jose        2013-08-06  \n",
       "1  San Jose        2013-08-05  \n",
       "2  San Jose        2013-08-06  \n",
       "3  San Jose        2013-08-05  \n",
       "4  San Jose        2013-08-07  "
      ]
     },
     "execution_count": 3,
     "metadata": {},
     "output_type": "execute_result"
    }
   ],
   "source": [
    "station.head()"
   ]
  },
  {
   "cell_type": "code",
   "execution_count": 4,
   "metadata": {},
   "outputs": [
    {
     "name": "stdout",
     "output_type": "stream",
     "text": [
      "<class 'pandas.core.frame.DataFrame'>\n",
      "RangeIndex: 70 entries, 0 to 69\n",
      "Data columns (total 7 columns):\n",
      "id                   70 non-null int64\n",
      "name                 70 non-null object\n",
      "lat                  70 non-null float64\n",
      "long                 70 non-null float64\n",
      "dock_count           70 non-null int64\n",
      "city                 70 non-null object\n",
      "installation_date    70 non-null datetime64[ns]\n",
      "dtypes: datetime64[ns](1), float64(2), int64(2), object(2)\n",
      "memory usage: 3.9+ KB\n"
     ]
    }
   ],
   "source": [
    "station.info()"
   ]
  },
  {
   "cell_type": "code",
   "execution_count": 5,
   "metadata": {},
   "outputs": [
    {
     "data": {
      "text/plain": [
       "0"
      ]
     },
     "execution_count": 5,
     "metadata": {},
     "output_type": "execute_result"
    }
   ],
   "source": [
    "# Check for duplicate rows\n",
    "station.duplicated().sum()"
   ]
  },
  {
   "cell_type": "markdown",
   "metadata": {},
   "source": [
    "### Trip"
   ]
  },
  {
   "cell_type": "code",
   "execution_count": 6,
   "metadata": {
    "collapsed": true
   },
   "outputs": [],
   "source": [
    "trip = pd.read_csv('data/trip.csv', parse_dates = ['start_date', 'end_date'])"
   ]
  },
  {
   "cell_type": "code",
   "execution_count": 7,
   "metadata": {},
   "outputs": [
    {
     "data": {
      "text/html": [
       "<div>\n",
       "<style scoped>\n",
       "    .dataframe tbody tr th:only-of-type {\n",
       "        vertical-align: middle;\n",
       "    }\n",
       "\n",
       "    .dataframe tbody tr th {\n",
       "        vertical-align: top;\n",
       "    }\n",
       "\n",
       "    .dataframe thead th {\n",
       "        text-align: right;\n",
       "    }\n",
       "</style>\n",
       "<table border=\"1\" class=\"dataframe\">\n",
       "  <thead>\n",
       "    <tr style=\"text-align: right;\">\n",
       "      <th></th>\n",
       "      <th>id</th>\n",
       "      <th>duration</th>\n",
       "      <th>start_date</th>\n",
       "      <th>start_station_name</th>\n",
       "      <th>start_station_id</th>\n",
       "      <th>end_date</th>\n",
       "      <th>end_station_name</th>\n",
       "      <th>end_station_id</th>\n",
       "      <th>bike_id</th>\n",
       "      <th>subscription_type</th>\n",
       "      <th>zip_code</th>\n",
       "    </tr>\n",
       "  </thead>\n",
       "  <tbody>\n",
       "    <tr>\n",
       "      <th>0</th>\n",
       "      <td>4576</td>\n",
       "      <td>63</td>\n",
       "      <td>2013-08-29 14:13:00</td>\n",
       "      <td>South Van Ness at Market</td>\n",
       "      <td>66</td>\n",
       "      <td>2013-08-29 14:14:00</td>\n",
       "      <td>South Van Ness at Market</td>\n",
       "      <td>66</td>\n",
       "      <td>520</td>\n",
       "      <td>Subscriber</td>\n",
       "      <td>94127</td>\n",
       "    </tr>\n",
       "    <tr>\n",
       "      <th>1</th>\n",
       "      <td>4607</td>\n",
       "      <td>70</td>\n",
       "      <td>2013-08-29 14:42:00</td>\n",
       "      <td>San Jose City Hall</td>\n",
       "      <td>10</td>\n",
       "      <td>2013-08-29 14:43:00</td>\n",
       "      <td>San Jose City Hall</td>\n",
       "      <td>10</td>\n",
       "      <td>661</td>\n",
       "      <td>Subscriber</td>\n",
       "      <td>95138</td>\n",
       "    </tr>\n",
       "    <tr>\n",
       "      <th>2</th>\n",
       "      <td>4130</td>\n",
       "      <td>71</td>\n",
       "      <td>2013-08-29 10:16:00</td>\n",
       "      <td>Mountain View City Hall</td>\n",
       "      <td>27</td>\n",
       "      <td>2013-08-29 10:17:00</td>\n",
       "      <td>Mountain View City Hall</td>\n",
       "      <td>27</td>\n",
       "      <td>48</td>\n",
       "      <td>Subscriber</td>\n",
       "      <td>97214</td>\n",
       "    </tr>\n",
       "    <tr>\n",
       "      <th>3</th>\n",
       "      <td>4251</td>\n",
       "      <td>77</td>\n",
       "      <td>2013-08-29 11:29:00</td>\n",
       "      <td>San Jose City Hall</td>\n",
       "      <td>10</td>\n",
       "      <td>2013-08-29 11:30:00</td>\n",
       "      <td>San Jose City Hall</td>\n",
       "      <td>10</td>\n",
       "      <td>26</td>\n",
       "      <td>Subscriber</td>\n",
       "      <td>95060</td>\n",
       "    </tr>\n",
       "    <tr>\n",
       "      <th>4</th>\n",
       "      <td>4299</td>\n",
       "      <td>83</td>\n",
       "      <td>2013-08-29 12:02:00</td>\n",
       "      <td>South Van Ness at Market</td>\n",
       "      <td>66</td>\n",
       "      <td>2013-08-29 12:04:00</td>\n",
       "      <td>Market at 10th</td>\n",
       "      <td>67</td>\n",
       "      <td>319</td>\n",
       "      <td>Subscriber</td>\n",
       "      <td>94103</td>\n",
       "    </tr>\n",
       "  </tbody>\n",
       "</table>\n",
       "</div>"
      ],
      "text/plain": [
       "     id  duration          start_date        start_station_name  \\\n",
       "0  4576        63 2013-08-29 14:13:00  South Van Ness at Market   \n",
       "1  4607        70 2013-08-29 14:42:00        San Jose City Hall   \n",
       "2  4130        71 2013-08-29 10:16:00   Mountain View City Hall   \n",
       "3  4251        77 2013-08-29 11:29:00        San Jose City Hall   \n",
       "4  4299        83 2013-08-29 12:02:00  South Van Ness at Market   \n",
       "\n",
       "   start_station_id            end_date          end_station_name  \\\n",
       "0                66 2013-08-29 14:14:00  South Van Ness at Market   \n",
       "1                10 2013-08-29 14:43:00        San Jose City Hall   \n",
       "2                27 2013-08-29 10:17:00   Mountain View City Hall   \n",
       "3                10 2013-08-29 11:30:00        San Jose City Hall   \n",
       "4                66 2013-08-29 12:04:00            Market at 10th   \n",
       "\n",
       "   end_station_id  bike_id subscription_type zip_code  \n",
       "0              66      520        Subscriber    94127  \n",
       "1              10      661        Subscriber    95138  \n",
       "2              27       48        Subscriber    97214  \n",
       "3              10       26        Subscriber    95060  \n",
       "4              67      319        Subscriber    94103  "
      ]
     },
     "execution_count": 7,
     "metadata": {},
     "output_type": "execute_result"
    }
   ],
   "source": [
    "trip.head()"
   ]
  },
  {
   "cell_type": "code",
   "execution_count": 8,
   "metadata": {
    "collapsed": true
   },
   "outputs": [],
   "source": [
    "# Convert duration to minutes from seconds\n",
    "trip['duration'] = trip['duration']/60"
   ]
  },
  {
   "cell_type": "code",
   "execution_count": 9,
   "metadata": {},
   "outputs": [
    {
     "data": {
      "text/plain": [
       "0"
      ]
     },
     "execution_count": 9,
     "metadata": {},
     "output_type": "execute_result"
    }
   ],
   "source": [
    "# Check for duplicate rows\n",
    "trip.duplicated().sum()"
   ]
  },
  {
   "cell_type": "code",
   "execution_count": 10,
   "metadata": {},
   "outputs": [
    {
     "name": "stdout",
     "output_type": "stream",
     "text": [
      "<class 'pandas.core.frame.DataFrame'>\n",
      "RangeIndex: 669959 entries, 0 to 669958\n",
      "Data columns (total 11 columns):\n",
      "id                    669959 non-null int64\n",
      "duration              669959 non-null float64\n",
      "start_date            669959 non-null datetime64[ns]\n",
      "start_station_name    669959 non-null object\n",
      "start_station_id      669959 non-null int64\n",
      "end_date              669959 non-null datetime64[ns]\n",
      "end_station_name      669959 non-null object\n",
      "end_station_id        669959 non-null int64\n",
      "bike_id               669959 non-null int64\n",
      "subscription_type     669959 non-null object\n",
      "zip_code              663340 non-null object\n",
      "dtypes: datetime64[ns](2), float64(1), int64(4), object(4)\n",
      "memory usage: 56.2+ MB\n"
     ]
    }
   ],
   "source": [
    "trip.info()"
   ]
  },
  {
   "cell_type": "markdown",
   "metadata": {},
   "source": [
    "Zip codes has missing values in the dataframe based on the values above. Let's take a closer look at the problem"
   ]
  },
  {
   "cell_type": "code",
   "execution_count": 11,
   "metadata": {
    "scrolled": true
   },
   "outputs": [
    {
     "data": {
      "text/plain": [
       "94107    78704\n",
       "94105    42672\n",
       "94133    31359\n",
       "94103    26673\n",
       "94111    21409\n",
       "94102    19757\n",
       "94109    13989\n",
       "95112    11564\n",
       "nil      10682\n",
       "94117     9851\n",
       "Name: zip_code, dtype: int64"
      ]
     },
     "execution_count": 11,
     "metadata": {},
     "output_type": "execute_result"
    }
   ],
   "source": [
    "trip['zip_code'].value_counts()[:10]"
   ]
  },
  {
   "cell_type": "markdown",
   "metadata": {},
   "source": [
    "As can be seen above, zip code has various values, many of which do not represent zip codes. Since zip code is a measure of location, let's drop the zip code column and replace it with a column that indicates the city."
   ]
  },
  {
   "cell_type": "code",
   "execution_count": 12,
   "metadata": {
    "scrolled": true
   },
   "outputs": [
    {
     "name": "stdout",
     "output_type": "stream",
     "text": [
      "Prior to filtering for trip duration: (669959, 11)\n"
     ]
    }
   ],
   "source": [
    "# Some of the trips have taken longer than 24 hours to complete. This is probably an error so let's filter out those values.\n",
    "base = trip.shape\n",
    "print('Prior to filtering for trip duration: {}'.format(base))"
   ]
  },
  {
   "cell_type": "code",
   "execution_count": 13,
   "metadata": {},
   "outputs": [
    {
     "name": "stdout",
     "output_type": "stream",
     "text": [
      "After filtering for trip duration: (669663, 11)\n"
     ]
    }
   ],
   "source": [
    "minutes_in_a_day = 60 * 24\n",
    "trip = trip[trip['duration'] < minutes_in_a_day]\n",
    "\n",
    "print('After filtering for trip duration: {}'.format(trip.shape))"
   ]
  },
  {
   "cell_type": "code",
   "execution_count": 14,
   "metadata": {
    "collapsed": true
   },
   "outputs": [],
   "source": [
    "# Create station id to city dictionary\n",
    "id_city_dict = dict(zip(station['id'], station['city']))\n",
    "\n",
    "# Add city column to trip dataframe\n",
    "trip['city'] = trip['start_station_id'].map(id_city_dict)"
   ]
  },
  {
   "cell_type": "code",
   "execution_count": 15,
   "metadata": {
    "collapsed": true
   },
   "outputs": [],
   "source": [
    "# Drop duration and zip_code columns\n",
    "trip = trip.drop(['zip_code'], axis=1)"
   ]
  },
  {
   "cell_type": "code",
   "execution_count": 16,
   "metadata": {},
   "outputs": [
    {
     "name": "stdout",
     "output_type": "stream",
     "text": [
      "<class 'pandas.core.frame.DataFrame'>\n",
      "Int64Index: 669663 entries, 0 to 669958\n",
      "Data columns (total 11 columns):\n",
      "id                    669663 non-null int64\n",
      "duration              669663 non-null float64\n",
      "start_date            669663 non-null datetime64[ns]\n",
      "start_station_name    669663 non-null object\n",
      "start_station_id      669663 non-null int64\n",
      "end_date              669663 non-null datetime64[ns]\n",
      "end_station_name      669663 non-null object\n",
      "end_station_id        669663 non-null int64\n",
      "bike_id               669663 non-null int64\n",
      "subscription_type     669663 non-null object\n",
      "city                  669663 non-null object\n",
      "dtypes: datetime64[ns](2), float64(1), int64(4), object(4)\n",
      "memory usage: 61.3+ MB\n"
     ]
    }
   ],
   "source": [
    "trip.info()"
   ]
  },
  {
   "cell_type": "code",
   "execution_count": 17,
   "metadata": {
    "collapsed": true
   },
   "outputs": [],
   "source": [
    "trip_clean = trip[:]"
   ]
  },
  {
   "cell_type": "markdown",
   "metadata": {},
   "source": [
    "### Weather"
   ]
  },
  {
   "cell_type": "code",
   "execution_count": 18,
   "metadata": {
    "collapsed": true
   },
   "outputs": [],
   "source": [
    "weather = pd.read_csv('data/weather.csv', parse_dates = ['date'])"
   ]
  },
  {
   "cell_type": "code",
   "execution_count": 19,
   "metadata": {},
   "outputs": [
    {
     "data": {
      "text/html": [
       "<div>\n",
       "<style scoped>\n",
       "    .dataframe tbody tr th:only-of-type {\n",
       "        vertical-align: middle;\n",
       "    }\n",
       "\n",
       "    .dataframe tbody tr th {\n",
       "        vertical-align: top;\n",
       "    }\n",
       "\n",
       "    .dataframe thead th {\n",
       "        text-align: right;\n",
       "    }\n",
       "</style>\n",
       "<table border=\"1\" class=\"dataframe\">\n",
       "  <thead>\n",
       "    <tr style=\"text-align: right;\">\n",
       "      <th></th>\n",
       "      <th>date</th>\n",
       "      <th>max_temperature_f</th>\n",
       "      <th>mean_temperature_f</th>\n",
       "      <th>min_temperature_f</th>\n",
       "      <th>max_dew_point_f</th>\n",
       "      <th>mean_dew_point_f</th>\n",
       "      <th>min_dew_point_f</th>\n",
       "      <th>max_humidity</th>\n",
       "      <th>mean_humidity</th>\n",
       "      <th>min_humidity</th>\n",
       "      <th>...</th>\n",
       "      <th>mean_visibility_miles</th>\n",
       "      <th>min_visibility_miles</th>\n",
       "      <th>max_wind_Speed_mph</th>\n",
       "      <th>mean_wind_speed_mph</th>\n",
       "      <th>max_gust_speed_mph</th>\n",
       "      <th>precipitation_inches</th>\n",
       "      <th>cloud_cover</th>\n",
       "      <th>events</th>\n",
       "      <th>wind_dir_degrees</th>\n",
       "      <th>zip_code</th>\n",
       "    </tr>\n",
       "  </thead>\n",
       "  <tbody>\n",
       "    <tr>\n",
       "      <th>0</th>\n",
       "      <td>2013-08-29</td>\n",
       "      <td>74.0</td>\n",
       "      <td>68.0</td>\n",
       "      <td>61.0</td>\n",
       "      <td>61.0</td>\n",
       "      <td>58.0</td>\n",
       "      <td>56.0</td>\n",
       "      <td>93.0</td>\n",
       "      <td>75.0</td>\n",
       "      <td>57.0</td>\n",
       "      <td>...</td>\n",
       "      <td>10.0</td>\n",
       "      <td>10.0</td>\n",
       "      <td>23.0</td>\n",
       "      <td>11.0</td>\n",
       "      <td>28.0</td>\n",
       "      <td>0</td>\n",
       "      <td>4.0</td>\n",
       "      <td>NaN</td>\n",
       "      <td>286.0</td>\n",
       "      <td>94107</td>\n",
       "    </tr>\n",
       "    <tr>\n",
       "      <th>1</th>\n",
       "      <td>2013-08-30</td>\n",
       "      <td>78.0</td>\n",
       "      <td>69.0</td>\n",
       "      <td>60.0</td>\n",
       "      <td>61.0</td>\n",
       "      <td>58.0</td>\n",
       "      <td>56.0</td>\n",
       "      <td>90.0</td>\n",
       "      <td>70.0</td>\n",
       "      <td>50.0</td>\n",
       "      <td>...</td>\n",
       "      <td>10.0</td>\n",
       "      <td>7.0</td>\n",
       "      <td>29.0</td>\n",
       "      <td>13.0</td>\n",
       "      <td>35.0</td>\n",
       "      <td>0</td>\n",
       "      <td>2.0</td>\n",
       "      <td>NaN</td>\n",
       "      <td>291.0</td>\n",
       "      <td>94107</td>\n",
       "    </tr>\n",
       "    <tr>\n",
       "      <th>2</th>\n",
       "      <td>2013-08-31</td>\n",
       "      <td>71.0</td>\n",
       "      <td>64.0</td>\n",
       "      <td>57.0</td>\n",
       "      <td>57.0</td>\n",
       "      <td>56.0</td>\n",
       "      <td>54.0</td>\n",
       "      <td>93.0</td>\n",
       "      <td>75.0</td>\n",
       "      <td>57.0</td>\n",
       "      <td>...</td>\n",
       "      <td>10.0</td>\n",
       "      <td>10.0</td>\n",
       "      <td>26.0</td>\n",
       "      <td>15.0</td>\n",
       "      <td>31.0</td>\n",
       "      <td>0</td>\n",
       "      <td>4.0</td>\n",
       "      <td>NaN</td>\n",
       "      <td>284.0</td>\n",
       "      <td>94107</td>\n",
       "    </tr>\n",
       "    <tr>\n",
       "      <th>3</th>\n",
       "      <td>2013-09-01</td>\n",
       "      <td>74.0</td>\n",
       "      <td>66.0</td>\n",
       "      <td>58.0</td>\n",
       "      <td>60.0</td>\n",
       "      <td>56.0</td>\n",
       "      <td>53.0</td>\n",
       "      <td>87.0</td>\n",
       "      <td>68.0</td>\n",
       "      <td>49.0</td>\n",
       "      <td>...</td>\n",
       "      <td>10.0</td>\n",
       "      <td>10.0</td>\n",
       "      <td>25.0</td>\n",
       "      <td>13.0</td>\n",
       "      <td>29.0</td>\n",
       "      <td>0</td>\n",
       "      <td>4.0</td>\n",
       "      <td>NaN</td>\n",
       "      <td>284.0</td>\n",
       "      <td>94107</td>\n",
       "    </tr>\n",
       "    <tr>\n",
       "      <th>4</th>\n",
       "      <td>2013-09-02</td>\n",
       "      <td>75.0</td>\n",
       "      <td>69.0</td>\n",
       "      <td>62.0</td>\n",
       "      <td>61.0</td>\n",
       "      <td>60.0</td>\n",
       "      <td>58.0</td>\n",
       "      <td>93.0</td>\n",
       "      <td>77.0</td>\n",
       "      <td>61.0</td>\n",
       "      <td>...</td>\n",
       "      <td>10.0</td>\n",
       "      <td>6.0</td>\n",
       "      <td>23.0</td>\n",
       "      <td>12.0</td>\n",
       "      <td>30.0</td>\n",
       "      <td>0</td>\n",
       "      <td>6.0</td>\n",
       "      <td>NaN</td>\n",
       "      <td>277.0</td>\n",
       "      <td>94107</td>\n",
       "    </tr>\n",
       "  </tbody>\n",
       "</table>\n",
       "<p>5 rows × 24 columns</p>\n",
       "</div>"
      ],
      "text/plain": [
       "        date  max_temperature_f  mean_temperature_f  min_temperature_f  \\\n",
       "0 2013-08-29               74.0                68.0               61.0   \n",
       "1 2013-08-30               78.0                69.0               60.0   \n",
       "2 2013-08-31               71.0                64.0               57.0   \n",
       "3 2013-09-01               74.0                66.0               58.0   \n",
       "4 2013-09-02               75.0                69.0               62.0   \n",
       "\n",
       "   max_dew_point_f  mean_dew_point_f  min_dew_point_f  max_humidity  \\\n",
       "0             61.0              58.0             56.0          93.0   \n",
       "1             61.0              58.0             56.0          90.0   \n",
       "2             57.0              56.0             54.0          93.0   \n",
       "3             60.0              56.0             53.0          87.0   \n",
       "4             61.0              60.0             58.0          93.0   \n",
       "\n",
       "   mean_humidity  min_humidity   ...     mean_visibility_miles  \\\n",
       "0           75.0          57.0   ...                      10.0   \n",
       "1           70.0          50.0   ...                      10.0   \n",
       "2           75.0          57.0   ...                      10.0   \n",
       "3           68.0          49.0   ...                      10.0   \n",
       "4           77.0          61.0   ...                      10.0   \n",
       "\n",
       "   min_visibility_miles  max_wind_Speed_mph  mean_wind_speed_mph  \\\n",
       "0                  10.0                23.0                 11.0   \n",
       "1                   7.0                29.0                 13.0   \n",
       "2                  10.0                26.0                 15.0   \n",
       "3                  10.0                25.0                 13.0   \n",
       "4                   6.0                23.0                 12.0   \n",
       "\n",
       "   max_gust_speed_mph  precipitation_inches  cloud_cover  events  \\\n",
       "0                28.0                     0          4.0     NaN   \n",
       "1                35.0                     0          2.0     NaN   \n",
       "2                31.0                     0          4.0     NaN   \n",
       "3                29.0                     0          4.0     NaN   \n",
       "4                30.0                     0          6.0     NaN   \n",
       "\n",
       "   wind_dir_degrees zip_code  \n",
       "0             286.0    94107  \n",
       "1             291.0    94107  \n",
       "2             284.0    94107  \n",
       "3             284.0    94107  \n",
       "4             277.0    94107  \n",
       "\n",
       "[5 rows x 24 columns]"
      ]
     },
     "execution_count": 19,
     "metadata": {},
     "output_type": "execute_result"
    }
   ],
   "source": [
    "weather.head()"
   ]
  },
  {
   "cell_type": "code",
   "execution_count": 20,
   "metadata": {},
   "outputs": [
    {
     "data": {
      "text/plain": [
       "Index(['date', 'max_temperature_f', 'mean_temperature_f', 'min_temperature_f',\n",
       "       'max_dew_point_f', 'mean_dew_point_f', 'min_dew_point_f',\n",
       "       'max_humidity', 'mean_humidity', 'min_humidity',\n",
       "       'max_sea_level_pressure_inches', 'mean_sea_level_pressure_inches',\n",
       "       'min_sea_level_pressure_inches', 'max_visibility_miles',\n",
       "       'mean_visibility_miles', 'min_visibility_miles', 'max_wind_Speed_mph',\n",
       "       'mean_wind_speed_mph', 'max_gust_speed_mph', 'precipitation_inches',\n",
       "       'cloud_cover', 'events', 'wind_dir_degrees', 'zip_code'],\n",
       "      dtype='object')"
      ]
     },
     "execution_count": 20,
     "metadata": {},
     "output_type": "execute_result"
    }
   ],
   "source": [
    "# What are the columns of interested for this dataset?\n",
    "weather.columns"
   ]
  },
  {
   "cell_type": "code",
   "execution_count": 21,
   "metadata": {
    "collapsed": true
   },
   "outputs": [],
   "source": [
    "# Choose columns to keep \n",
    "to_keep = ['date', 'mean_temperature_f', 'mean_wind_speed_mph', 'precipitation_inches', 'zip_code']\n",
    "\n",
    "weather = weather[to_keep]"
   ]
  },
  {
   "cell_type": "code",
   "execution_count": 22,
   "metadata": {},
   "outputs": [
    {
     "data": {
      "text/plain": [
       "0"
      ]
     },
     "execution_count": 22,
     "metadata": {},
     "output_type": "execute_result"
    }
   ],
   "source": [
    "# Check for duplicate rows\n",
    "weather.duplicated().sum()"
   ]
  },
  {
   "cell_type": "code",
   "execution_count": 23,
   "metadata": {},
   "outputs": [
    {
     "name": "stdout",
     "output_type": "stream",
     "text": [
      "<class 'pandas.core.frame.DataFrame'>\n",
      "RangeIndex: 3665 entries, 0 to 3664\n",
      "Data columns (total 5 columns):\n",
      "date                    3665 non-null datetime64[ns]\n",
      "mean_temperature_f      3661 non-null float64\n",
      "mean_wind_speed_mph     3664 non-null float64\n",
      "precipitation_inches    3664 non-null object\n",
      "zip_code                3665 non-null int64\n",
      "dtypes: datetime64[ns](1), float64(2), int64(1), object(1)\n",
      "memory usage: 143.2+ KB\n"
     ]
    }
   ],
   "source": [
    "weather.info()"
   ]
  },
  {
   "cell_type": "markdown",
   "metadata": {},
   "source": [
    "There are a couple of issues with the dataset.\n",
    "1. Missing values throughout different columns\n",
    "2. Precipitation should be a float64 but it was read-in as an object. This suggests there may be issues with the data\n",
    "3. Let's add city column to be consistent with the rest of the dataframes"
   ]
  },
  {
   "cell_type": "code",
   "execution_count": 24,
   "metadata": {
    "scrolled": true
   },
   "outputs": [
    {
     "data": {
      "text/plain": [
       "0       3231\n",
       "T        143\n",
       "0.01      65\n",
       "0.02      29\n",
       "0.03      13\n",
       "Name: precipitation_inches, dtype: int64"
      ]
     },
     "execution_count": 24,
     "metadata": {},
     "output_type": "execute_result"
    }
   ],
   "source": [
    "weather['precipitation_inches'].value_counts()[:5]"
   ]
  },
  {
   "cell_type": "markdown",
   "metadata": {},
   "source": [
    "Precipitation has a value of \"T\", which doesn't mean anything to me. Let's replace it with 0 and convert the dtype to float64"
   ]
  },
  {
   "cell_type": "code",
   "execution_count": 25,
   "metadata": {
    "collapsed": true
   },
   "outputs": [],
   "source": [
    "# Replace 'T' with 0.0\n",
    "weather['precipitation_inches'] = weather['precipitation_inches'].replace('T', 0.0)\n",
    "\n",
    "# Change dtype from object to float64\n",
    "weather['precipitation_inches'] = pd.to_numeric(weather['precipitation_inches'])\n",
    "\n",
    "# Fill in missing values with foward fill method\n",
    "weather = weather.fillna(method='ffill')\n",
    "\n",
    "# Add city column\n",
    "zip_city_dict = {94041:'Mountain View', \n",
    "                 94301:'Palo Alto', \n",
    "                 94063:'Redwood City', \n",
    "                 94107:'San Francisco', \n",
    "                 95113:'San Jose'}\n",
    "\n",
    "weather['city'] = weather['zip_code'].map(zip_city_dict)"
   ]
  },
  {
   "cell_type": "code",
   "execution_count": 26,
   "metadata": {
    "collapsed": true
   },
   "outputs": [],
   "source": [
    "# Drop Zip Code column\n",
    "weather = weather.drop(['zip_code'], axis=1)"
   ]
  },
  {
   "cell_type": "code",
   "execution_count": 27,
   "metadata": {},
   "outputs": [
    {
     "name": "stdout",
     "output_type": "stream",
     "text": [
      "<class 'pandas.core.frame.DataFrame'>\n",
      "RangeIndex: 3665 entries, 0 to 3664\n",
      "Data columns (total 5 columns):\n",
      "date                    3665 non-null datetime64[ns]\n",
      "mean_temperature_f      3665 non-null float64\n",
      "mean_wind_speed_mph     3665 non-null float64\n",
      "precipitation_inches    3665 non-null float64\n",
      "city                    3665 non-null object\n",
      "dtypes: datetime64[ns](1), float64(3), object(1)\n",
      "memory usage: 143.2+ KB\n"
     ]
    }
   ],
   "source": [
    "weather.info()"
   ]
  },
  {
   "cell_type": "code",
   "execution_count": 28,
   "metadata": {
    "collapsed": true
   },
   "outputs": [],
   "source": [
    "weather_clean = weather[:]"
   ]
  },
  {
   "cell_type": "markdown",
   "metadata": {},
   "source": [
    "### Status"
   ]
  },
  {
   "cell_type": "code",
   "execution_count": 29,
   "metadata": {
    "collapsed": true
   },
   "outputs": [],
   "source": [
    "status = pd.read_csv('data/status.csv', parse_dates = ['time'], index_col='time')"
   ]
  },
  {
   "cell_type": "code",
   "execution_count": 30,
   "metadata": {},
   "outputs": [
    {
     "data": {
      "text/html": [
       "<div>\n",
       "<style scoped>\n",
       "    .dataframe tbody tr th:only-of-type {\n",
       "        vertical-align: middle;\n",
       "    }\n",
       "\n",
       "    .dataframe tbody tr th {\n",
       "        vertical-align: top;\n",
       "    }\n",
       "\n",
       "    .dataframe thead th {\n",
       "        text-align: right;\n",
       "    }\n",
       "</style>\n",
       "<table border=\"1\" class=\"dataframe\">\n",
       "  <thead>\n",
       "    <tr style=\"text-align: right;\">\n",
       "      <th></th>\n",
       "      <th>station_id</th>\n",
       "      <th>bikes_available</th>\n",
       "      <th>docks_available</th>\n",
       "    </tr>\n",
       "    <tr>\n",
       "      <th>time</th>\n",
       "      <th></th>\n",
       "      <th></th>\n",
       "      <th></th>\n",
       "    </tr>\n",
       "  </thead>\n",
       "  <tbody>\n",
       "    <tr>\n",
       "      <th>2013-08-29 12:06:01</th>\n",
       "      <td>2</td>\n",
       "      <td>2</td>\n",
       "      <td>25</td>\n",
       "    </tr>\n",
       "    <tr>\n",
       "      <th>2013-08-29 12:07:01</th>\n",
       "      <td>2</td>\n",
       "      <td>2</td>\n",
       "      <td>25</td>\n",
       "    </tr>\n",
       "    <tr>\n",
       "      <th>2013-08-29 12:08:01</th>\n",
       "      <td>2</td>\n",
       "      <td>2</td>\n",
       "      <td>25</td>\n",
       "    </tr>\n",
       "    <tr>\n",
       "      <th>2013-08-29 12:09:01</th>\n",
       "      <td>2</td>\n",
       "      <td>2</td>\n",
       "      <td>25</td>\n",
       "    </tr>\n",
       "    <tr>\n",
       "      <th>2013-08-29 12:10:01</th>\n",
       "      <td>2</td>\n",
       "      <td>2</td>\n",
       "      <td>25</td>\n",
       "    </tr>\n",
       "  </tbody>\n",
       "</table>\n",
       "</div>"
      ],
      "text/plain": [
       "                     station_id  bikes_available  docks_available\n",
       "time                                                             \n",
       "2013-08-29 12:06:01           2                2               25\n",
       "2013-08-29 12:07:01           2                2               25\n",
       "2013-08-29 12:08:01           2                2               25\n",
       "2013-08-29 12:09:01           2                2               25\n",
       "2013-08-29 12:10:01           2                2               25"
      ]
     },
     "execution_count": 30,
     "metadata": {},
     "output_type": "execute_result"
    }
   ],
   "source": [
    "status.head()"
   ]
  },
  {
   "cell_type": "code",
   "execution_count": 31,
   "metadata": {},
   "outputs": [
    {
     "name": "stdout",
     "output_type": "stream",
     "text": [
      "<class 'pandas.core.frame.DataFrame'>\n",
      "DatetimeIndex: 71984434 entries, 2013-08-29 12:06:01 to 2015-08-31 23:59:02\n",
      "Data columns (total 3 columns):\n",
      "station_id         int64\n",
      "bikes_available    int64\n",
      "docks_available    int64\n",
      "dtypes: int64(3)\n",
      "memory usage: 2.1 GB\n"
     ]
    }
   ],
   "source": [
    "status.info()"
   ]
  },
  {
   "cell_type": "code",
   "execution_count": 32,
   "metadata": {},
   "outputs": [
    {
     "data": {
      "text/plain": [
       "station_id         0\n",
       "bikes_available    0\n",
       "docks_available    0\n",
       "dtype: int64"
      ]
     },
     "execution_count": 32,
     "metadata": {},
     "output_type": "execute_result"
    }
   ],
   "source": [
    "pd.isnull(status).sum()"
   ]
  },
  {
   "cell_type": "markdown",
   "metadata": {},
   "source": [
    "# Exploratory Data Analyses (EDA)"
   ]
  },
  {
   "cell_type": "markdown",
   "metadata": {},
   "source": [
    "** How many bike stations does each city have? **"
   ]
  },
  {
   "cell_type": "code",
   "execution_count": 33,
   "metadata": {},
   "outputs": [
    {
     "name": "stdout",
     "output_type": "stream",
     "text": [
      "            city  count\n",
      "0  Mountain View      7\n",
      "1      Palo Alto      5\n",
      "2   Redwood City      7\n",
      "3  San Francisco     35\n",
      "4       San Jose     16\n"
     ]
    },
    {
     "name": "stderr",
     "output_type": "stream",
     "text": [
      "/anaconda3/lib/python3.6/site-packages/seaborn/categorical.py:1460: FutureWarning:\n",
      "\n",
      "remove_na is deprecated and is a private function. Do not use.\n",
      "\n"
     ]
    },
    {
     "data": {
      "image/png": "[encoded data removed]",
      "text/plain": [
       "<matplotlib.figure.Figure at 0x1a203d6cf8>"
      ]
     },
     "metadata": {},
     "output_type": "display_data"
    }
   ],
   "source": [
    "# Format data\n",
    "agg1 = station.groupby('city').size().reset_index().rename(columns={0:'count'})\n",
    "print(agg1)\n",
    "\n",
    "# Bar Plot\n",
    "sns.barplot(x = 'city', y = 'count', data = agg1)\n",
    "\n",
    "# Set Labels\n",
    "plt.xlabel('City', size=14)\n",
    "plt.ylabel('Count', size=14)\n",
    "plt.title('Number of Stations per city', size=18)\n",
    "\n",
    "# Show Plot\n",
    "plt.show()"
   ]
  },
  {
   "cell_type": "markdown",
   "metadata": {},
   "source": [
    "** When were the stations installed? In which cities? **"
   ]
  },
  {
   "cell_type": "code",
   "execution_count": 34,
   "metadata": {},
   "outputs": [
    {
     "name": "stderr",
     "output_type": "stream",
     "text": [
      "/anaconda3/lib/python3.6/site-packages/seaborn/categorical.py:1508: FutureWarning:\n",
      "\n",
      "remove_na is deprecated and is a private function. Do not use.\n",
      "\n"
     ]
    },
    {
     "data": {
      "image/png": "[encoded data removed]",
      "text/plain": [
       "<matplotlib.figure.Figure at 0x1a1a6b59e8>"
      ]
     },
     "metadata": {},
     "output_type": "display_data"
    }
   ],
   "source": [
    "# Format Data\n",
    "install = station.groupby(['installation_date', 'city'], as_index=False)['id'].count()\n",
    "\n",
    "table = pd.pivot_table(install, \n",
    "                       values='id', \n",
    "                       index='installation_date', \n",
    "                       columns='city')\\\n",
    "                       .resample('M').sum()\n",
    "\n",
    "agg2 = table.unstack().reset_index().rename(columns={0:'count'})\n",
    "\n",
    "# Label for x-axis tick marks\n",
    "ticks = ['Aug', 'Sep', 'Oct\\n2013', 'Nov', 'Dec', 'Jan', 'Feb\\n2014', 'Mar', 'Apr', 'May']\n",
    "\n",
    "# Plot\n",
    "sns.barplot(x = 'installation_date', y = 'count', hue='city', data = agg2)\n",
    "\n",
    "# Set Labels\n",
    "plt.xlabel('Installation Date', size=12)\n",
    "plt.xticks(np.arange(0,9), ticks)\n",
    "plt.ylabel('Number of stations')\n",
    "plt.legend(loc='upper right')\n",
    "plt.title('Bike Dock Installations', size=20)\n",
    "\n",
    "# Show Plot\n",
    "plt.show()"
   ]
  },
  {
   "cell_type": "markdown",
   "metadata": {},
   "source": [
    "** Where are the stations located? **"
   ]
  },
  {
   "cell_type": "code",
   "execution_count": 35,
   "metadata": {},
   "outputs": [
    {
     "data": {
      "text/html": [
       "<script>requirejs.config({paths: { 'plotly': ['https://cdn.plot.ly/plotly-latest.min']},});if(!window.Plotly) {{require(['plotly'],function(plotly) {window.Plotly=plotly;});}}</script>"
      ],
      "text/vnd.plotly.v1+html": [
       "<script>requirejs.config({paths: { 'plotly': ['https://cdn.plot.ly/plotly-latest.min']},});if(!window.Plotly) {{require(['plotly'],function(plotly) {window.Plotly=plotly;});}}</script>"
      ]
     },
     "metadata": {},
     "output_type": "display_data"
    },
    {
     "data": {
      "application/vnd.plotly.v1+json": {
       "data": [
        {
         "hoverinfo": "text",
         "lat": [
          37.329732,
          37.330698,
          37.333988,
          37.331415,
          37.336721,
          37.333798,
          37.330165,
          37.348742,
          37.337391,
          37.335885,
          37.332808,
          37.339301,
          37.332692,
          37.333955,
          37.481758,
          37.486078000000006,
          37.487616,
          37.484219,
          37.48537,
          37.487682,
          37.389218,
          37.394358,
          37.40694000000001,
          37.39027700000001,
          37.400443,
          37.385956,
          37.400241,
          37.443988,
          37.444521,
          37.429082,
          37.448598,
          37.4256839,
          37.795001,
          37.79728,
          37.794231,
          37.795425,
          37.788975,
          37.799953,
          37.790302,
          37.795392,
          37.79146400000001,
          37.78387100000001,
          37.787152,
          37.789756,
          37.792251,
          37.781752,
          37.77865,
          37.781332,
          37.80477,
          37.780526,
          37.785299,
          37.78697800000001,
          37.782259,
          37.771058,
          37.774814,
          37.776619,
          37.784878000000006,
          37.7766,
          37.776617,
          37.788446,
          37.781039,
          37.798522,
          37.794139,
          37.7913,
          37.786305,
          37.789625,
          37.352601,
          37.798541,
          37.491269,
          37.342725
         ],
         "lon": [
          -121.901782,
          -121.888979,
          -121.894902,
          -121.8932,
          -121.894074,
          -121.886943,
          -121.885831,
          -121.894715,
          -121.886995,
          -121.88566000000002,
          -121.883891,
          -121.88993700000002,
          -121.900084,
          -121.877349,
          -122.226904,
          -122.232089,
          -122.229951,
          -122.227424,
          -122.203288,
          -122.223492,
          -122.081896,
          -122.07671299999998,
          -122.106758,
          -122.066553,
          -122.108338,
          -122.083678,
          -122.099076,
          -122.164759,
          -122.163093,
          -122.142805,
          -122.159504,
          -122.13777749999998,
          -122.39997,
          -122.398436,
          -122.402923,
          -122.404767,
          -122.403452,
          -122.398525,
          -122.390637,
          -122.394203,
          -122.391034,
          -122.408433,
          -122.388013,
          -122.394643,
          -122.39708600000002,
          -122.405127,
          -122.418235,
          -122.418603,
          -122.403234,
          -122.39028799999998,
          -122.39623600000002,
          -122.398108,
          -122.392738,
          -122.402717,
          -122.418954,
          -122.417385,
          -122.401014,
          -122.39547,
          -122.39526,
          -122.408499,
          -122.411748,
          -122.407245,
          -122.394434,
          -122.399051,
          -122.404966,
          -122.400811,
          -121.905733,
          -122.40086200000002,
          -122.236234,
          -121.895617
         ],
         "marker": {
          "color": "rgb(255, 100, 100)",
          "opacity": 0.7,
          "size": 17
         },
         "mode": "markers",
         "text": [
          "San Jose Diridon Caltrain Station",
          "San Jose Civic Center",
          "Santa Clara at Almaden",
          "Adobe on Almaden",
          "San Pedro Square",
          "Paseo de San Antonio",
          "San Salvador at 1st",
          "Japantown",
          "San Jose City Hall",
          "MLK Library",
          "SJSU 4th at San Carlos",
          "St James Park",
          "Arena Green / SAP Center",
          "SJSU - San Salvador at 9th",
          "Franklin at Maple",
          "Redwood City Caltrain Station",
          "San Mateo County Center",
          "Redwood City Public Library",
          "Stanford in Redwood City",
          "Redwood City Medical Center",
          "Mountain View City Hall",
          "Mountain View Caltrain Station",
          "San Antonio Caltrain Station",
          "Evelyn Park and Ride",
          "San Antonio Shopping Center",
          "Castro Street and El Camino Real",
          "Rengstorff Avenue / California Street",
          "Palo Alto Caltrain Station",
          "University and Emerson",
          "California Ave Caltrain Station",
          "Cowper at University",
          "Park at Olive",
          "Clay at Battery",
          "Davis at Jackson",
          "Commercial at Montgomery",
          "Washington at Kearney",
          "Post at Kearney",
          "Embarcadero at Vallejo",
          "Spear at Folsom",
          "Harry Bridges Plaza (Ferry Building)",
          "Embarcadero at Folsom",
          "Powell Street BART",
          "Embarcadero at Bryant",
          "Temporary Transbay Terminal (Howard at Beale)",
          "Beale at Market",
          "5th at Howard",
          "San Francisco City Hall",
          "Golden Gate at Polk",
          "Embarcadero at Sansome",
          "2nd at Townsend",
          "2nd at Folsom",
          "Howard at 2nd",
          "2nd at South Park",
          "Townsend at 7th",
          "South Van Ness at Market",
          "Market at 10th",
          "Yerba Buena Center of the Arts (3rd @ Howard)",
          "San Francisco Caltrain 2 (330 Townsend)",
          "San Francisco Caltrain (Townsend at 4th)",
          "Powell at Post (Union Square)",
          "Civic Center BART (7th at Market)",
          "Grant Avenue at Columbus Avenue",
          "Steuart at Market",
          "Mechanics Plaza (Market at Battery)",
          "Market at 4th",
          "Market at Sansome",
          "Santa Clara County Civic Center",
          "Broadway St at Battery St",
          "Mezes Park",
          "Ryland Park"
         ],
         "type": "scattermapbox"
        }
       ],
       "layout": {
        "autosize": true,
        "hovermode": "closest",
        "mapbox": {
         "accesstoken": "pk.eyJ1IjoibWFsZmFjaW5pIiwiYSI6ImNqZ2Z0MXU3cDA2aXcycXFtbmo3bGd3bm0ifQ.v1sdJIQgvD-21VabfbcJ0Q",
         "bearing": 0,
         "center": {
          "lat": 37.5,
          "lon": -122.5
         },
         "pitch": 0,
         "style": "light",
         "zoom": 8
        },
        "showlegend": false,
        "title": "Bike Sharing Stations - Mountain View"
       }
      },
      "text/html": [
       "<div id=\"44fa76d7-3522-459c-8c1b-bea173d4f276\" style=\"height: 525px; width: 100%;\" class=\"plotly-graph-div\"></div><script type=\"text/javascript\">require([\"plotly\"], function(Plotly) { window.PLOTLYENV=window.PLOTLYENV || {};window.PLOTLYENV.BASE_URL=\"https://plot.ly\";Plotly.newPlot(\"44fa76d7-3522-459c-8c1b-bea173d4f276\", [{\"type\": \"scattermapbox\", \"lat\": [37.329732, 37.330698, 37.333988, 37.331415, 37.336721, 37.333798, 37.330165, 37.348742, 37.337391, 37.335885, 37.332808, 37.339301, 37.332692, 37.333955, 37.481758, 37.486078000000006, 37.487616, 37.484219, 37.48537, 37.487682, 37.389218, 37.394358, 37.40694000000001, 37.39027700000001, 37.400443, 37.385956, 37.400241, 37.443988, 37.444521, 37.429082, 37.448598, 37.4256839, 37.795001, 37.79728, 37.794231, 37.795425, 37.788975, 37.799953, 37.790302, 37.795392, 37.79146400000001, 37.78387100000001, 37.787152, 37.789756, 37.792251, 37.781752, 37.77865, 37.781332, 37.80477, 37.780526, 37.785299, 37.78697800000001, 37.782259, 37.771058, 37.774814, 37.776619, 37.784878000000006, 37.7766, 37.776617, 37.788446, 37.781039, 37.798522, 37.794139, 37.7913, 37.786305, 37.789625, 37.352601, 37.798541, 37.491269, 37.342725], \"lon\": [-121.901782, -121.888979, -121.894902, -121.8932, -121.894074, -121.886943, -121.885831, -121.894715, -121.886995, -121.88566000000002, -121.883891, -121.88993700000002, -121.900084, -121.877349, -122.226904, -122.232089, -122.229951, -122.227424, -122.203288, -122.223492, -122.081896, -122.07671299999998, -122.106758, -122.066553, -122.108338, -122.083678, -122.099076, -122.164759, -122.163093, -122.142805, -122.159504, -122.13777749999998, -122.39997, -122.398436, -122.402923, -122.404767, -122.403452, -122.398525, -122.390637, -122.394203, -122.391034, -122.408433, -122.388013, -122.394643, -122.39708600000002, -122.405127, -122.418235, -122.418603, -122.403234, -122.39028799999998, -122.39623600000002, -122.398108, -122.392738, -122.402717, -122.418954, -122.417385, -122.401014, -122.39547, -122.39526, -122.408499, -122.411748, -122.407245, -122.394434, -122.399051, -122.404966, -122.400811, -121.905733, -122.40086200000002, -122.236234, -121.895617], \"mode\": \"markers\", \"marker\": {\"size\": 17, \"color\": \"rgb(255, 100, 100)\", \"opacity\": 0.7}, \"text\": [\"San Jose Diridon Caltrain Station\", \"San Jose Civic Center\", \"Santa Clara at Almaden\", \"Adobe on Almaden\", \"San Pedro Square\", \"Paseo de San Antonio\", \"San Salvador at 1st\", \"Japantown\", \"San Jose City Hall\", \"MLK Library\", \"SJSU 4th at San Carlos\", \"St James Park\", \"Arena Green / SAP Center\", \"SJSU - San Salvador at 9th\", \"Franklin at Maple\", \"Redwood City Caltrain Station\", \"San Mateo County Center\", \"Redwood City Public Library\", \"Stanford in Redwood City\", \"Redwood City Medical Center\", \"Mountain View City Hall\", \"Mountain View Caltrain Station\", \"San Antonio Caltrain Station\", \"Evelyn Park and Ride\", \"San Antonio Shopping Center\", \"Castro Street and El Camino Real\", \"Rengstorff Avenue / California Street\", \"Palo Alto Caltrain Station\", \"University and Emerson\", \"California Ave Caltrain Station\", \"Cowper at University\", \"Park at Olive\", \"Clay at Battery\", \"Davis at Jackson\", \"Commercial at Montgomery\", \"Washington at Kearney\", \"Post at Kearney\", \"Embarcadero at Vallejo\", \"Spear at Folsom\", \"Harry Bridges Plaza (Ferry Building)\", \"Embarcadero at Folsom\", \"Powell Street BART\", \"Embarcadero at Bryant\", \"Temporary Transbay Terminal (Howard at Beale)\", \"Beale at Market\", \"5th at Howard\", \"San Francisco City Hall\", \"Golden Gate at Polk\", \"Embarcadero at Sansome\", \"2nd at Townsend\", \"2nd at Folsom\", \"Howard at 2nd\", \"2nd at South Park\", \"Townsend at 7th\", \"South Van Ness at Market\", \"Market at 10th\", \"Yerba Buena Center of the Arts (3rd @ Howard)\", \"San Francisco Caltrain 2 (330 Townsend)\", \"San Francisco Caltrain (Townsend at 4th)\", \"Powell at Post (Union Square)\", \"Civic Center BART (7th at Market)\", \"Grant Avenue at Columbus Avenue\", \"Steuart at Market\", \"Mechanics Plaza (Market at Battery)\", \"Market at 4th\", \"Market at Sansome\", \"Santa Clara County Civic Center\", \"Broadway St at Battery St\", \"Mezes Park\", \"Ryland Park\"], \"hoverinfo\": \"text\"}], {\"title\": \"Bike Sharing Stations - Mountain View\", \"autosize\": true, \"hovermode\": \"closest\", \"showlegend\": false, \"mapbox\": {\"accesstoken\": \"pk.eyJ1IjoibWFsZmFjaW5pIiwiYSI6ImNqZ2Z0MXU3cDA2aXcycXFtbmo3bGd3bm0ifQ.v1sdJIQgvD-21VabfbcJ0Q\", \"bearing\": 0, \"center\": {\"lat\": 37.5, \"lon\": -122.5}, \"pitch\": 0, \"zoom\": 8, \"style\": \"light\"}}, {\"showLink\": true, \"linkText\": \"Export to plot.ly\"})});</script>"
      ],
      "text/vnd.plotly.v1+html": [
       "<div id=\"44fa76d7-3522-459c-8c1b-bea173d4f276\" style=\"height: 525px; width: 100%;\" class=\"plotly-graph-div\"></div><script type=\"text/javascript\">require([\"plotly\"], function(Plotly) { window.PLOTLYENV=window.PLOTLYENV || {};window.PLOTLYENV.BASE_URL=\"https://plot.ly\";Plotly.newPlot(\"44fa76d7-3522-459c-8c1b-bea173d4f276\", [{\"type\": \"scattermapbox\", \"lat\": [37.329732, 37.330698, 37.333988, 37.331415, 37.336721, 37.333798, 37.330165, 37.348742, 37.337391, 37.335885, 37.332808, 37.339301, 37.332692, 37.333955, 37.481758, 37.486078000000006, 37.487616, 37.484219, 37.48537, 37.487682, 37.389218, 37.394358, 37.40694000000001, 37.39027700000001, 37.400443, 37.385956, 37.400241, 37.443988, 37.444521, 37.429082, 37.448598, 37.4256839, 37.795001, 37.79728, 37.794231, 37.795425, 37.788975, 37.799953, 37.790302, 37.795392, 37.79146400000001, 37.78387100000001, 37.787152, 37.789756, 37.792251, 37.781752, 37.77865, 37.781332, 37.80477, 37.780526, 37.785299, 37.78697800000001, 37.782259, 37.771058, 37.774814, 37.776619, 37.784878000000006, 37.7766, 37.776617, 37.788446, 37.781039, 37.798522, 37.794139, 37.7913, 37.786305, 37.789625, 37.352601, 37.798541, 37.491269, 37.342725], \"lon\": [-121.901782, -121.888979, -121.894902, -121.8932, -121.894074, -121.886943, -121.885831, -121.894715, -121.886995, -121.88566000000002, -121.883891, -121.88993700000002, -121.900084, -121.877349, -122.226904, -122.232089, -122.229951, -122.227424, -122.203288, -122.223492, -122.081896, -122.07671299999998, -122.106758, -122.066553, -122.108338, -122.083678, -122.099076, -122.164759, -122.163093, -122.142805, -122.159504, -122.13777749999998, -122.39997, -122.398436, -122.402923, -122.404767, -122.403452, -122.398525, -122.390637, -122.394203, -122.391034, -122.408433, -122.388013, -122.394643, -122.39708600000002, -122.405127, -122.418235, -122.418603, -122.403234, -122.39028799999998, -122.39623600000002, -122.398108, -122.392738, -122.402717, -122.418954, -122.417385, -122.401014, -122.39547, -122.39526, -122.408499, -122.411748, -122.407245, -122.394434, -122.399051, -122.404966, -122.400811, -121.905733, -122.40086200000002, -122.236234, -121.895617], \"mode\": \"markers\", \"marker\": {\"size\": 17, \"color\": \"rgb(255, 100, 100)\", \"opacity\": 0.7}, \"text\": [\"San Jose Diridon Caltrain Station\", \"San Jose Civic Center\", \"Santa Clara at Almaden\", \"Adobe on Almaden\", \"San Pedro Square\", \"Paseo de San Antonio\", \"San Salvador at 1st\", \"Japantown\", \"San Jose City Hall\", \"MLK Library\", \"SJSU 4th at San Carlos\", \"St James Park\", \"Arena Green / SAP Center\", \"SJSU - San Salvador at 9th\", \"Franklin at Maple\", \"Redwood City Caltrain Station\", \"San Mateo County Center\", \"Redwood City Public Library\", \"Stanford in Redwood City\", \"Redwood City Medical Center\", \"Mountain View City Hall\", \"Mountain View Caltrain Station\", \"San Antonio Caltrain Station\", \"Evelyn Park and Ride\", \"San Antonio Shopping Center\", \"Castro Street and El Camino Real\", \"Rengstorff Avenue / California Street\", \"Palo Alto Caltrain Station\", \"University and Emerson\", \"California Ave Caltrain Station\", \"Cowper at University\", \"Park at Olive\", \"Clay at Battery\", \"Davis at Jackson\", \"Commercial at Montgomery\", \"Washington at Kearney\", \"Post at Kearney\", \"Embarcadero at Vallejo\", \"Spear at Folsom\", \"Harry Bridges Plaza (Ferry Building)\", \"Embarcadero at Folsom\", \"Powell Street BART\", \"Embarcadero at Bryant\", \"Temporary Transbay Terminal (Howard at Beale)\", \"Beale at Market\", \"5th at Howard\", \"San Francisco City Hall\", \"Golden Gate at Polk\", \"Embarcadero at Sansome\", \"2nd at Townsend\", \"2nd at Folsom\", \"Howard at 2nd\", \"2nd at South Park\", \"Townsend at 7th\", \"South Van Ness at Market\", \"Market at 10th\", \"Yerba Buena Center of the Arts (3rd @ Howard)\", \"San Francisco Caltrain 2 (330 Townsend)\", \"San Francisco Caltrain (Townsend at 4th)\", \"Powell at Post (Union Square)\", \"Civic Center BART (7th at Market)\", \"Grant Avenue at Columbus Avenue\", \"Steuart at Market\", \"Mechanics Plaza (Market at Battery)\", \"Market at 4th\", \"Market at Sansome\", \"Santa Clara County Civic Center\", \"Broadway St at Battery St\", \"Mezes Park\", \"Ryland Park\"], \"hoverinfo\": \"text\"}], {\"title\": \"Bike Sharing Stations - Mountain View\", \"autosize\": true, \"hovermode\": \"closest\", \"showlegend\": false, \"mapbox\": {\"accesstoken\": \"pk.eyJ1IjoibWFsZmFjaW5pIiwiYSI6ImNqZ2Z0MXU3cDA2aXcycXFtbmo3bGd3bm0ifQ.v1sdJIQgvD-21VabfbcJ0Q\", \"bearing\": 0, \"center\": {\"lat\": 37.5, \"lon\": -122.5}, \"pitch\": 0, \"zoom\": 8, \"style\": \"light\"}}, {\"showLink\": true, \"linkText\": \"Export to plot.ly\"})});</script>"
      ]
     },
     "metadata": {},
     "output_type": "display_data"
    }
   ],
   "source": [
    "init_notebook_mode(connected=True)\n",
    "\n",
    "mapbox_access_token = 'pk.eyJ1IjoibWFsZmFjaW5pIiwiYSI6ImNqZ2Z0MXU3cDA2aXcycXFtbmo3bGd3bm0ifQ.v1sdJIQgvD-21VabfbcJ0Q'\n",
    "\n",
    "lat = station['lat']\n",
    "long = station['long']\n",
    "text = station['name']\n",
    "size = 600\n",
    "\n",
    "data = Data([\n",
    "        Scattermapbox(\n",
    "            lat = lat,\n",
    "            lon = long,\n",
    "            mode = 'markers',\n",
    "            marker = Marker(\n",
    "                size = 17,\n",
    "                color = 'rgb(255, 100, 100)',\n",
    "                opacity = 0.7\n",
    "            ),\n",
    "            text = text,\n",
    "            hoverinfo='text'\n",
    "        )]\n",
    ")\n",
    "\n",
    "layout = Layout(\n",
    "    title = 'Bike Sharing Stations - Mountain View',\n",
    "    autosize = True,\n",
    "    hovermode = 'closest',\n",
    "    showlegend = False,\n",
    "    mapbox = dict(\n",
    "        accesstoken = mapbox_access_token,\n",
    "        bearing = 0,\n",
    "        center = dict(\n",
    "            lat = 37.5,\n",
    "            lon =-122.5\n",
    "        ),\n",
    "        pitch=0,\n",
    "        zoom=8,\n",
    "        style='light'\n",
    "    ),\n",
    ")\n",
    "\n",
    "fig = dict(data = data, layout = layout)\n",
    "plotly.offline.iplot(fig, filename = 'Bay Sharing Stations in San Francisco Bay Area')"
   ]
  },
  {
   "cell_type": "markdown",
   "metadata": {},
   "source": [
    "** What is the average trip duration per city? **"
   ]
  },
  {
   "cell_type": "code",
   "execution_count": 36,
   "metadata": {},
   "outputs": [
    {
     "name": "stdout",
     "output_type": "stream",
     "text": [
      "The overall average trip duration is 16.46 minutes\n",
      "\n",
      "            city  avg_duration\n",
      "0  Mountain View     21.592546\n",
      "1      Palo Alto     50.183507\n",
      "2   Redwood City     28.502796\n",
      "3  San Francisco     15.813575\n",
      "4       San Jose     17.136340\n"
     ]
    },
    {
     "name": "stderr",
     "output_type": "stream",
     "text": [
      "/anaconda3/lib/python3.6/site-packages/seaborn/categorical.py:1460: FutureWarning:\n",
      "\n",
      "remove_na is deprecated and is a private function. Do not use.\n",
      "\n"
     ]
    },
    {
     "data": {
      "image/png": "[encoded data removed]",
      "text/plain": [
       "<matplotlib.figure.Figure at 0x1a1e1f3908>"
      ]
     },
     "metadata": {},
     "output_type": "display_data"
    }
   ],
   "source": [
    "print('The overall average trip duration is {:.2f} minutes'.format(np.mean(trip['duration'])))\n",
    "print()\n",
    "\n",
    "# Format Data\n",
    "agg3 = trip_clean.groupby('city')['duration'].mean().reset_index().rename(columns={'duration':'avg_duration'})\n",
    "print(agg3)\n",
    "\n",
    "# Plot\n",
    "sns.barplot(x = 'city', y = 'avg_duration', data = agg3)\n",
    "\n",
    "# Set Labels\n",
    "plt.xlabel('City', size=14)\n",
    "plt.ylabel('Avg Duration', size=14)\n",
    "plt.title('Average Trip Duration (minutes) per city', size=18)\n",
    "# Show Plot\n",
    "plt.show()"
   ]
  },
  {
   "cell_type": "markdown",
   "metadata": {},
   "source": [
    "** When do people ride the most often? **"
   ]
  },
  {
   "cell_type": "code",
   "execution_count": 37,
   "metadata": {},
   "outputs": [
    {
     "data": {
      "image/png": "[encoded data removed]",
      "text/plain": [
       "<matplotlib.figure.Figure at 0x1a1d2a5e10>"
      ]
     },
     "metadata": {},
     "output_type": "display_data"
    }
   ],
   "source": [
    "# Format Data\n",
    "agg4 = trip_clean.set_index('start_date')\n",
    "agg4['hour'] = agg4.index.hour\n",
    "agg4['weekday'] = agg4.index.weekday_name\n",
    "agg4 = agg4.groupby(['hour', 'weekday']).size().reset_index().rename(columns={0:'count'})\n",
    "\n",
    "# Plot\n",
    "weekday = agg4.weekday.unique()\n",
    "\n",
    "for day in weekday:\n",
    "    data = agg4[agg4['weekday'] == day]\n",
    "    plt.plot(data['hour'], data['count'], label = day)\n",
    "\n",
    "# Set Labels\n",
    "plt.xlabel('Hour', size=14)\n",
    "plt.xticks(np.arange(24))\n",
    "plt.ylabel('Number of rides', size=14)\n",
    "plt.title('When do people ride the most?', size=18)\n",
    "plt.legend()\n",
    "\n",
    "# Show Plot\n",
    "plt.show()"
   ]
  },
  {
   "cell_type": "markdown",
   "metadata": {},
   "source": [
    "** Which do people ride the longest/shortest? **"
   ]
  },
  {
   "cell_type": "code",
   "execution_count": 38,
   "metadata": {},
   "outputs": [
    {
     "data": {
      "image/png": "[encoded data removed]",
      "text/plain": [
       "<matplotlib.figure.Figure at 0x1a1aa677b8>"
      ]
     },
     "metadata": {},
     "output_type": "display_data"
    }
   ],
   "source": [
    "# Format Data\n",
    "agg6 = trip_clean.set_index('start_date')\n",
    "agg6['hour'] = agg6.index.hour\n",
    "agg6['weekday'] = agg6.index.weekday_name\n",
    "agg6 = agg6.groupby(['hour', 'city']).size().reset_index().rename(columns={0:'count'})\n",
    "\n",
    "# Plot\n",
    "cities = agg6.city.unique()\n",
    "\n",
    "for city in cities:\n",
    "    data = agg6[agg6['city'] == city]\n",
    "    plt.plot(data['hour'], data['count'], label = city)\n",
    "\n",
    "# Set Labels\n",
    "plt.xlabel('Hour', size=14)\n",
    "plt.xticks(np.arange(24))\n",
    "plt.ylabel('Number of rides', size=14)\n",
    "plt.title('When do people ride the most?', size=18)\n",
    "plt.legend()\n",
    "\n",
    "# Show Plot\n",
    "plt.show()"
   ]
  },
  {
   "cell_type": "code",
   "execution_count": 39,
   "metadata": {},
   "outputs": [
    {
     "data": {
      "image/png": "[encoded data removed]",
      "text/plain": [
       "<matplotlib.figure.Figure at 0x1babe961d0>"
      ]
     },
     "metadata": {},
     "output_type": "display_data"
    }
   ],
   "source": [
    "# Format Data\n",
    "agg5 = trip_clean.set_index('start_date')\n",
    "agg5['hour'] = agg5.index.hour\n",
    "agg5['weekday'] = agg5.index.weekday_name\n",
    "agg5 = agg5.groupby(['hour', 'weekday'])['duration'].mean().reset_index()\n",
    "\n",
    "# Plot\n",
    "weekday = agg5.weekday.unique()\n",
    "\n",
    "for day in weekday:\n",
    "    data = agg5[agg5['weekday'] == day]\n",
    "    plt.plot(data['hour'], data['duration'], label = day)\n",
    "\n",
    "# Set Labels\n",
    "plt.xlabel('Hour', size=14)\n",
    "plt.xticks(np.arange(24))\n",
    "plt.ylabel('Average Duration (minutes)', size=14)\n",
    "plt.title('When do people ride the longest?', size=18)\n",
    "plt.legend()\n",
    "\n",
    "# Show Plot\n",
    "plt.show()"
   ]
  },
  {
   "cell_type": "markdown",
   "metadata": {},
   "source": [
    "** Which city do people ride the most and longest/shortest? **"
   ]
  },
  {
   "cell_type": "code",
   "execution_count": 40,
   "metadata": {},
   "outputs": [
    {
     "data": {
      "image/png": "[encoded data removed]",
      "text/plain": [
       "<matplotlib.figure.Figure at 0x1a1c0d8e10>"
      ]
     },
     "metadata": {},
     "output_type": "display_data"
    }
   ],
   "source": [
    "# Format Data\n",
    "agg7 = trip_clean.set_index('start_date')\n",
    "agg7['hour'] = agg7.index.hour\n",
    "agg7['weekday'] = agg7.index.weekday_name\n",
    "agg7 = agg7.groupby(['hour', 'city'])['duration'].mean().reset_index()\n",
    "\n",
    "# Plot\n",
    "cities = agg7.city.unique()\n",
    "\n",
    "for city in cities:\n",
    "    data = agg7[agg7['city'] == city]\n",
    "    plt.plot(data['hour'], data['duration'], label = city)\n",
    "\n",
    "# Set Labels\n",
    "plt.xlabel('Hour', size=14)\n",
    "plt.xticks(np.arange(24))\n",
    "plt.ylabel('Average Duration (minutes)', size=14)\n",
    "plt.title('When do people ride the longest?', size=18)\n",
    "plt.legend()\n",
    "\n",
    "# Show Plot\n",
    "plt.show()"
   ]
  },
  {
   "cell_type": "markdown",
   "metadata": {},
   "source": [
    "** What are the top riding routes? **"
   ]
  },
  {
   "cell_type": "code",
   "execution_count": 41,
   "metadata": {},
   "outputs": [
    {
     "data": {
      "text/html": [
       "<div>\n",
       "<style scoped>\n",
       "    .dataframe tbody tr th:only-of-type {\n",
       "        vertical-align: middle;\n",
       "    }\n",
       "\n",
       "    .dataframe tbody tr th {\n",
       "        vertical-align: top;\n",
       "    }\n",
       "\n",
       "    .dataframe thead th {\n",
       "        text-align: right;\n",
       "    }\n",
       "</style>\n",
       "<table border=\"1\" class=\"dataframe\">\n",
       "  <thead>\n",
       "    <tr style=\"text-align: right;\">\n",
       "      <th></th>\n",
       "      <th>start_station_name</th>\n",
       "      <th>end_station_name</th>\n",
       "      <th>city</th>\n",
       "      <th>count</th>\n",
       "    </tr>\n",
       "  </thead>\n",
       "  <tbody>\n",
       "    <tr>\n",
       "      <th>0</th>\n",
       "      <td>San Francisco Caltrain 2 (330 Townsend)</td>\n",
       "      <td>Townsend at 7th</td>\n",
       "      <td>San Francisco</td>\n",
       "      <td>6215</td>\n",
       "    </tr>\n",
       "    <tr>\n",
       "      <th>1</th>\n",
       "      <td>Harry Bridges Plaza (Ferry Building)</td>\n",
       "      <td>Embarcadero at Sansome</td>\n",
       "      <td>San Francisco</td>\n",
       "      <td>6164</td>\n",
       "    </tr>\n",
       "    <tr>\n",
       "      <th>2</th>\n",
       "      <td>Townsend at 7th</td>\n",
       "      <td>San Francisco Caltrain (Townsend at 4th)</td>\n",
       "      <td>San Francisco</td>\n",
       "      <td>5041</td>\n",
       "    </tr>\n",
       "    <tr>\n",
       "      <th>3</th>\n",
       "      <td>2nd at Townsend</td>\n",
       "      <td>Harry Bridges Plaza (Ferry Building)</td>\n",
       "      <td>San Francisco</td>\n",
       "      <td>4839</td>\n",
       "    </tr>\n",
       "    <tr>\n",
       "      <th>4</th>\n",
       "      <td>Harry Bridges Plaza (Ferry Building)</td>\n",
       "      <td>2nd at Townsend</td>\n",
       "      <td>San Francisco</td>\n",
       "      <td>4357</td>\n",
       "    </tr>\n",
       "    <tr>\n",
       "      <th>5</th>\n",
       "      <td>Embarcadero at Sansome</td>\n",
       "      <td>Steuart at Market</td>\n",
       "      <td>San Francisco</td>\n",
       "      <td>4269</td>\n",
       "    </tr>\n",
       "    <tr>\n",
       "      <th>6</th>\n",
       "      <td>Embarcadero at Folsom</td>\n",
       "      <td>San Francisco Caltrain (Townsend at 4th)</td>\n",
       "      <td>San Francisco</td>\n",
       "      <td>3966</td>\n",
       "    </tr>\n",
       "    <tr>\n",
       "      <th>7</th>\n",
       "      <td>Steuart at Market</td>\n",
       "      <td>2nd at Townsend</td>\n",
       "      <td>San Francisco</td>\n",
       "      <td>3903</td>\n",
       "    </tr>\n",
       "    <tr>\n",
       "      <th>8</th>\n",
       "      <td>2nd at South Park</td>\n",
       "      <td>Market at Sansome</td>\n",
       "      <td>San Francisco</td>\n",
       "      <td>3627</td>\n",
       "    </tr>\n",
       "    <tr>\n",
       "      <th>9</th>\n",
       "      <td>San Francisco Caltrain (Townsend at 4th)</td>\n",
       "      <td>Harry Bridges Plaza (Ferry Building)</td>\n",
       "      <td>San Francisco</td>\n",
       "      <td>3622</td>\n",
       "    </tr>\n",
       "  </tbody>\n",
       "</table>\n",
       "</div>"
      ],
      "text/plain": [
       "                         start_station_name  \\\n",
       "0   San Francisco Caltrain 2 (330 Townsend)   \n",
       "1      Harry Bridges Plaza (Ferry Building)   \n",
       "2                           Townsend at 7th   \n",
       "3                           2nd at Townsend   \n",
       "4      Harry Bridges Plaza (Ferry Building)   \n",
       "5                    Embarcadero at Sansome   \n",
       "6                     Embarcadero at Folsom   \n",
       "7                         Steuart at Market   \n",
       "8                         2nd at South Park   \n",
       "9  San Francisco Caltrain (Townsend at 4th)   \n",
       "\n",
       "                           end_station_name           city  count  \n",
       "0                           Townsend at 7th  San Francisco   6215  \n",
       "1                    Embarcadero at Sansome  San Francisco   6164  \n",
       "2  San Francisco Caltrain (Townsend at 4th)  San Francisco   5041  \n",
       "3      Harry Bridges Plaza (Ferry Building)  San Francisco   4839  \n",
       "4                           2nd at Townsend  San Francisco   4357  \n",
       "5                         Steuart at Market  San Francisco   4269  \n",
       "6  San Francisco Caltrain (Townsend at 4th)  San Francisco   3966  \n",
       "7                           2nd at Townsend  San Francisco   3903  \n",
       "8                         Market at Sansome  San Francisco   3627  \n",
       "9      Harry Bridges Plaza (Ferry Building)  San Francisco   3622  "
      ]
     },
     "execution_count": 41,
     "metadata": {},
     "output_type": "execute_result"
    }
   ],
   "source": [
    "# Format Data\n",
    "agg10 = trip_clean.groupby(['start_station_name', 'end_station_name', 'city']).size()\\\n",
    "                                                                              .reset_index()\\\n",
    "                                                                              .rename(columns={0:'count'})\\\n",
    "                                                                              .sort_values(by='count', ascending=False)\\\n",
    "                                                                              .reset_index(drop=True)\n",
    "agg10.head(10)"
   ]
  },
  {
   "cell_type": "markdown",
   "metadata": {},
   "source": [
    "** Which months rain the most? **"
   ]
  },
  {
   "cell_type": "code",
   "execution_count": 42,
   "metadata": {},
   "outputs": [
    {
     "name": "stderr",
     "output_type": "stream",
     "text": [
      "/anaconda3/lib/python3.6/site-packages/seaborn/categorical.py:1508: FutureWarning:\n",
      "\n",
      "remove_na is deprecated and is a private function. Do not use.\n",
      "\n"
     ]
    },
    {
     "data": {
      "image/png": "[encoded data removed]",
      "text/plain": [
       "<matplotlib.figure.Figure at 0x1a1bc62208>"
      ]
     },
     "metadata": {},
     "output_type": "display_data"
    }
   ],
   "source": [
    "# Format Data\n",
    "rain = weather_clean.groupby(['date', 'city'], as_index=False)['precipitation_inches'].sum()\n",
    "\n",
    "table = pd.pivot_table(rain, \n",
    "                       values='precipitation_inches', \n",
    "                       index='date', \n",
    "                       columns='city')\\\n",
    "                       .resample('M').sum()\n",
    "\n",
    "agg11 = table.unstack().reset_index().rename(columns={0:'count'})\n",
    "\n",
    "# Label for x-axis tick marks\n",
    "ticks = ['Aug\\n2013', 'Sep', 'Oct', 'Nov', 'Dec\\n2013', 'Jan\\n2014', 'Feb', 'Mar', 'Apr', 'May',\n",
    "         'Jun', 'Jul', 'Aug', 'Sep', 'Oct', 'Nov', 'Dec\\n2014', 'Jan\\n2015', 'Feb', 'Mar', 'Apr', \n",
    "         'May', 'Jun', 'Jul', 'Aug\\n2015']\n",
    "\n",
    "# Plot\n",
    "sns.barplot(x='date', y='count', hue='city', data=agg11)\n",
    "\n",
    "# Adjust Labels\n",
    "plt.xlabel('Month', size=20)\n",
    "plt.xticks(np.arange(0,25), ticks)\n",
    "plt.ylabel('Precipitation (inches)')\n",
    "plt.legend(loc='upper right')\n",
    "plt.title('Precipitation per month', size=20)\n",
    "\n",
    "# Show Plot\n",
    "plt.show()"
   ]
  },
  {
   "cell_type": "markdown",
   "metadata": {},
   "source": [
    "** Do people ride less often when it's raining? **"
   ]
  },
  {
   "cell_type": "code",
   "execution_count": 43,
   "metadata": {},
   "outputs": [
    {
     "name": "stderr",
     "output_type": "stream",
     "text": [
      "/anaconda3/lib/python3.6/site-packages/seaborn/categorical.py:1460: FutureWarning:\n",
      "\n",
      "remove_na is deprecated and is a private function. Do not use.\n",
      "\n"
     ]
    },
    {
     "data": {
      "image/png": "[encoded data removed]",
      "text/plain": [
       "<matplotlib.figure.Figure at 0x1be0a32748>"
      ]
     },
     "metadata": {},
     "output_type": "display_data"
    }
   ],
   "source": [
    "# Format data for bar plot\n",
    "agg12 = trip_clean.set_index('start_date')\n",
    "agg12 = agg12.groupby(agg12.index.month).size().reset_index().rename(columns={0:'count'})\n",
    "\n",
    "# Format Data for line plot\n",
    "agg13 = weather_clean.set_index('date')\n",
    "agg13 = agg13.groupby(agg13.index.month)['precipitation_inches'].mean().reset_index().rename(columns={'precipitation_inches':'avg_rain'})\n",
    "\n",
    "# Label months\n",
    "months = ['Jan', 'Feb', 'Mar', 'Apr', 'May', 'Jun', 'Jul', 'Aug', 'Sep', 'Oct', 'Nov', 'Dec']\n",
    "\n",
    "# Plot the graph\n",
    "sns.barplot(x = agg12.index, y = 'count', color='red',data=agg12)\n",
    "\n",
    "# Label the graph\n",
    "plt.xlabel('Month', size=12)\n",
    "plt.xticks(np.arange(0, 12), months)\n",
    "plt.ylabel('Number of Rides', size=12)\n",
    "plt.title('Which month do people ride the most?', size=18)\n",
    "\n",
    "# Line plot\n",
    "x = agg13['date']\n",
    "y = agg13['avg_rain']\n",
    "\n",
    "# Plot the graph\n",
    "ax2 = plt.twinx()\n",
    "ax2.plot(y, color='black')\n",
    "ax2.set_ylabel('Avg. Rain (inches)')\n",
    "plt.legend(['Avg. Rain (inches)'])\n",
    "\n",
    "# Show the Graph\n",
    "plt.show()"
   ]
  },
  {
   "cell_type": "markdown",
   "metadata": {},
   "source": [
    "** Do people take shorter/longer rides when it's raining?**"
   ]
  },
  {
   "cell_type": "code",
   "execution_count": 44,
   "metadata": {},
   "outputs": [
    {
     "name": "stderr",
     "output_type": "stream",
     "text": [
      "/anaconda3/lib/python3.6/site-packages/seaborn/categorical.py:1460: FutureWarning:\n",
      "\n",
      "remove_na is deprecated and is a private function. Do not use.\n",
      "\n"
     ]
    },
    {
     "data": {
      "image/png": "[encoded data removed]",
      "text/plain": [
       "<matplotlib.figure.Figure at 0x1a1bc93320>"
      ]
     },
     "metadata": {},
     "output_type": "display_data"
    }
   ],
   "source": [
    "# Format data for bar plot\n",
    "agg14 = trip_clean.set_index('start_date')\n",
    "agg14 = agg14.groupby(agg14.index.month)['duration'].mean().reset_index()\n",
    " \n",
    "# Format Data for line plot\n",
    "agg15 = weather_clean.set_index('date')\n",
    "agg15 = agg15.groupby(agg15.index.month)['precipitation_inches'].mean().reset_index()\n",
    "\n",
    "# Label months\n",
    "months = ['Jan', 'Feb', 'Mar', 'Apr', 'May', 'Jun', 'Jul', 'Aug', 'Sep', 'Oct', 'Nov', 'Dec']\n",
    "\n",
    "# Plot the graph\n",
    "sns.barplot(x = agg14.index, y = 'duration', color='r',data=agg14)\n",
    "\n",
    "# Label the graph\n",
    "plt.xlabel('Month', size=12)\n",
    "plt.xticks(np.arange(0, 12), months)\n",
    "plt.ylabel('Ride Duration', size=12)\n",
    "plt.title('Which month do people ride the longest?', size=18)\n",
    "\n",
    "# Line plot\n",
    "x = agg15['date']\n",
    "y = agg15['precipitation_inches']\n",
    "\n",
    "# Plot the graph\n",
    "ax2 = plt.twinx()\n",
    "ax2.plot(y, color='black')\n",
    "ax2.set_ylabel('Avg. Rain (inches)')\n",
    "plt.legend(['Avg. Rain (inches)'])\n",
    "\n",
    "# Show the Graph\n",
    "plt.show()"
   ]
  },
  {
   "cell_type": "markdown",
   "metadata": {},
   "source": [
    "** How does temperature impact ridership? **"
   ]
  },
  {
   "cell_type": "code",
   "execution_count": 45,
   "metadata": {},
   "outputs": [
    {
     "name": "stderr",
     "output_type": "stream",
     "text": [
      "/anaconda3/lib/python3.6/site-packages/seaborn/categorical.py:1460: FutureWarning:\n",
      "\n",
      "remove_na is deprecated and is a private function. Do not use.\n",
      "\n"
     ]
    },
    {
     "data": {
      "image/png": "[encoded data removed]",
      "text/plain": [
       "<matplotlib.figure.Figure at 0x1a1c25dd30>"
      ]
     },
     "metadata": {},
     "output_type": "display_data"
    }
   ],
   "source": [
    "# Format data for bar plot\n",
    "agg16 = trip_clean.set_index('start_date')\n",
    "agg16 = agg16.groupby(agg16.index.month).size().reset_index().rename(columns={0:'count'})\n",
    "        \n",
    "# Format Data for line plot\n",
    "agg17 = weather_clean.set_index('date')\n",
    "agg17 = agg17.groupby(agg17.index.month)['mean_temperature_f'].mean().reset_index()\n",
    "\n",
    "# Label months\n",
    "months = ['Jan', 'Feb', 'Mar', 'Apr', 'May', 'Jun', 'Jul', 'Aug', 'Sep', 'Oct', 'Nov', 'Dec']\n",
    "\n",
    "# Plot the graph\n",
    "sns.barplot(x = agg16.index, y = 'count', color='red',data=agg16)\n",
    "\n",
    "# Label the graph\n",
    "plt.xlabel('Month', size=12)\n",
    "plt.xticks(np.arange(0, 12), months)\n",
    "plt.ylabel('Number of Rides', size=12)\n",
    "plt.title('Which month do people ride the most?', size=18)\n",
    "\n",
    "# Line plot\n",
    "x = agg17['date']\n",
    "y = agg17['mean_temperature_f']\n",
    "\n",
    "# Plot the graph\n",
    "ax2 = plt.twinx()\n",
    "ax2.plot(y, color='black')\n",
    "ax2.set_ylabel('Avg. Temp (F)')\n",
    "plt.legend(['Avg. Temp (F)'])\n",
    "\n",
    "# Show the Graph\n",
    "plt.show()"
   ]
  },
  {
   "cell_type": "markdown",
   "metadata": {},
   "source": [
    "** How does temperature impact ride duration?**"
   ]
  },
  {
   "cell_type": "code",
   "execution_count": 46,
   "metadata": {},
   "outputs": [
    {
     "name": "stderr",
     "output_type": "stream",
     "text": [
      "/anaconda3/lib/python3.6/site-packages/seaborn/categorical.py:1460: FutureWarning:\n",
      "\n",
      "remove_na is deprecated and is a private function. Do not use.\n",
      "\n"
     ]
    },
    {
     "data": {
      "image/png": "[encoded data removed]",
      "text/plain": [
       "<matplotlib.figure.Figure at 0x1a1e1d5d30>"
      ]
     },
     "metadata": {},
     "output_type": "display_data"
    }
   ],
   "source": [
    "# Format data for bar plot\n",
    "agg18 = trip_clean.set_index('start_date')\n",
    "agg18 = agg18.groupby(agg18.index.month)['duration'].mean().reset_index()\n",
    "        \n",
    "# Format Data for line plot\n",
    "agg19 = weather_clean.set_index('date')\n",
    "agg19 = agg19.groupby(agg19.index.month)['mean_temperature_f'].mean().reset_index()\n",
    "\n",
    "# Label months\n",
    "months = ['Jan', 'Feb', 'Mar', 'Apr', 'May', 'Jun', 'Jul', 'Aug', 'Sep', 'Oct', 'Nov', 'Dec']\n",
    "\n",
    "# Plot the graph\n",
    "sns.barplot(x = agg18.index, y = 'duration', color='red',data=agg18)\n",
    "\n",
    "# Label the graph\n",
    "plt.xlabel('Month', size=12)\n",
    "plt.xticks(np.arange(0, 12), months)\n",
    "plt.ylabel('Ride Duration', size=12)\n",
    "plt.title('Which month do people ride the longest?', size=18)\n",
    "\n",
    "# Line plot\n",
    "x = agg19['date']\n",
    "y = agg19['mean_temperature_f']\n",
    "\n",
    "# Plot the graph\n",
    "ax2 = plt.twinx()\n",
    "ax2.plot(y, color='black')\n",
    "ax2.set_ylabel('Avg. Temp (F)')\n",
    "plt.legend(['Avg. Temp (F)'])\n",
    "\n",
    "# Show the Graph\n",
    "plt.show()"
   ]
  },
  {
   "cell_type": "markdown",
   "metadata": {},
   "source": [
    "# Machine Learning"
   ]
  },
  {
   "cell_type": "code",
   "execution_count": 94,
   "metadata": {
    "collapsed": true
   },
   "outputs": [],
   "source": [
    "from sklearn.model_selection import train_test_split, cross_val_score, GridSearchCV, RandomizedSearchCV\n",
    "from sklearn.ensemble import RandomForestClassifier\n",
    "from sklearn.svm import LinearSVC\n",
    "from sklearn.linear_model import LogisticRegression\n",
    "from sklearn.naive_bayes import MultinomialNB\n",
    "from sklearn.pipeline import make_pipeline\n",
    "from io import StringIO\n",
    "import re\n",
    "from sklearn import metrics\n",
    "from sklearn.metrics import confusion_matrix\n",
    "import scipy.optimize as optimization"
   ]
  },
  {
   "cell_type": "markdown",
   "metadata": {},
   "source": [
    "Under the trips dataframe, we have a column named subscription_type which states a trip was taken either by a \"Subscriber\" or a \"Customer\" (i.e. non-subscriber). In this model, I'm going to use data to predict wheather a trip was taken by either a Subscriber or a Customer."
   ]
  },
  {
   "cell_type": "markdown",
   "metadata": {},
   "source": [
    "### Classify whether the rider is a subscriber or a customer"
   ]
  },
  {
   "cell_type": "code",
   "execution_count": 48,
   "metadata": {},
   "outputs": [
    {
     "name": "stderr",
     "output_type": "stream",
     "text": [
      "/anaconda3/lib/python3.6/site-packages/pandas/core/indexing.py:362: SettingWithCopyWarning:\n",
      "\n",
      "\n",
      "A value is trying to be set on a copy of a slice from a DataFrame.\n",
      "Try using .loc[row_indexer,col_indexer] = value instead\n",
      "\n",
      "See the caveats in the documentation: http://pandas.pydata.org/pandas-docs/stable/indexing.html#indexing-view-versus-copy\n",
      "\n",
      "/anaconda3/lib/python3.6/site-packages/pandas/core/indexing.py:543: SettingWithCopyWarning:\n",
      "\n",
      "\n",
      "A value is trying to be set on a copy of a slice from a DataFrame.\n",
      "Try using .loc[row_indexer,col_indexer] = value instead\n",
      "\n",
      "See the caveats in the documentation: http://pandas.pydata.org/pandas-docs/stable/indexing.html#indexing-view-versus-copy\n",
      "\n"
     ]
    }
   ],
   "source": [
    "# Make start_date a date only field to merge dataframes\n",
    "trip_clean.loc[:, 'date_only'] = [d.date() for d in trip_clean.loc[:, 'start_date']]\n",
    "trip_clean.loc[:, 'date_only'] = pd.to_datetime(trip_clean.loc[:, 'date_only'])"
   ]
  },
  {
   "cell_type": "code",
   "execution_count": 49,
   "metadata": {
    "collapsed": true
   },
   "outputs": [],
   "source": [
    "# Merge trip and weather information\n",
    "df = pd.merge(trip_clean, weather_clean, left_on=['date_only', 'city'], right_on=['date', 'city'], how='left')"
   ]
  },
  {
   "cell_type": "code",
   "execution_count": 50,
   "metadata": {
    "collapsed": true
   },
   "outputs": [],
   "source": [
    "# Keep only features to be used in machine learning model\n",
    "col_to_keep = ['duration', 'start_station_id', 'end_station_id', 'mean_temperature_f', 'mean_wind_speed_mph',\n",
    "               'precipitation_inches', 'subscription_type']\n",
    "\n",
    "ml = df[col_to_keep]"
   ]
  },
  {
   "cell_type": "code",
   "execution_count": 51,
   "metadata": {},
   "outputs": [
    {
     "data": {
      "text/html": [
       "<div>\n",
       "<style scoped>\n",
       "    .dataframe tbody tr th:only-of-type {\n",
       "        vertical-align: middle;\n",
       "    }\n",
       "\n",
       "    .dataframe tbody tr th {\n",
       "        vertical-align: top;\n",
       "    }\n",
       "\n",
       "    .dataframe thead th {\n",
       "        text-align: right;\n",
       "    }\n",
       "</style>\n",
       "<table border=\"1\" class=\"dataframe\">\n",
       "  <thead>\n",
       "    <tr style=\"text-align: right;\">\n",
       "      <th></th>\n",
       "      <th>duration</th>\n",
       "      <th>start_station_id</th>\n",
       "      <th>end_station_id</th>\n",
       "      <th>mean_temperature_f</th>\n",
       "      <th>mean_wind_speed_mph</th>\n",
       "      <th>precipitation_inches</th>\n",
       "      <th>subscription_type</th>\n",
       "    </tr>\n",
       "  </thead>\n",
       "  <tbody>\n",
       "    <tr>\n",
       "      <th>0</th>\n",
       "      <td>1.050000</td>\n",
       "      <td>66</td>\n",
       "      <td>66</td>\n",
       "      <td>68.0</td>\n",
       "      <td>11.0</td>\n",
       "      <td>0.0</td>\n",
       "      <td>Subscriber</td>\n",
       "    </tr>\n",
       "    <tr>\n",
       "      <th>1</th>\n",
       "      <td>1.166667</td>\n",
       "      <td>10</td>\n",
       "      <td>10</td>\n",
       "      <td>72.0</td>\n",
       "      <td>7.0</td>\n",
       "      <td>0.0</td>\n",
       "      <td>Subscriber</td>\n",
       "    </tr>\n",
       "    <tr>\n",
       "      <th>2</th>\n",
       "      <td>1.183333</td>\n",
       "      <td>27</td>\n",
       "      <td>27</td>\n",
       "      <td>70.0</td>\n",
       "      <td>5.0</td>\n",
       "      <td>0.0</td>\n",
       "      <td>Subscriber</td>\n",
       "    </tr>\n",
       "    <tr>\n",
       "      <th>3</th>\n",
       "      <td>1.283333</td>\n",
       "      <td>10</td>\n",
       "      <td>10</td>\n",
       "      <td>72.0</td>\n",
       "      <td>7.0</td>\n",
       "      <td>0.0</td>\n",
       "      <td>Subscriber</td>\n",
       "    </tr>\n",
       "    <tr>\n",
       "      <th>4</th>\n",
       "      <td>1.383333</td>\n",
       "      <td>66</td>\n",
       "      <td>67</td>\n",
       "      <td>68.0</td>\n",
       "      <td>11.0</td>\n",
       "      <td>0.0</td>\n",
       "      <td>Subscriber</td>\n",
       "    </tr>\n",
       "  </tbody>\n",
       "</table>\n",
       "</div>"
      ],
      "text/plain": [
       "   duration  start_station_id  end_station_id  mean_temperature_f  \\\n",
       "0  1.050000                66              66                68.0   \n",
       "1  1.166667                10              10                72.0   \n",
       "2  1.183333                27              27                70.0   \n",
       "3  1.283333                10              10                72.0   \n",
       "4  1.383333                66              67                68.0   \n",
       "\n",
       "   mean_wind_speed_mph  precipitation_inches subscription_type  \n",
       "0                 11.0                   0.0        Subscriber  \n",
       "1                  7.0                   0.0        Subscriber  \n",
       "2                  5.0                   0.0        Subscriber  \n",
       "3                  7.0                   0.0        Subscriber  \n",
       "4                 11.0                   0.0        Subscriber  "
      ]
     },
     "execution_count": 51,
     "metadata": {},
     "output_type": "execute_result"
    }
   ],
   "source": [
    "ml.head()"
   ]
  },
  {
   "cell_type": "code",
   "execution_count": 52,
   "metadata": {},
   "outputs": [
    {
     "name": "stdout",
     "output_type": "stream",
     "text": [
      "Subscribers are 84.62% of the dataset.\n",
      "There are 566698 observations that are subscribers\n",
      "\n",
      "Customers are 15.38% of the dataset.\n",
      "There are 102965 Customer observations\n",
      "\n",
      "There are 669663 observations in this dataset\n"
     ]
    }
   ],
   "source": [
    "# Set model baseline\n",
    "print('Subscribers are {:2.2%} of the dataset.'\\\n",
    "      .format(len(ml[ml['subscription_type'] == 'Subscriber'])/len(ml)))\n",
    "print('There are {} observations that are subscribers'\\\n",
    "      .format(len(ml[ml['subscription_type'] == 'Subscriber'])))\n",
    "print()\n",
    "print('Customers are {:2.2%} of the dataset.'\\\n",
    "      .format(len(ml[ml['subscription_type'] == 'Customer'])/len(ml)))\n",
    "print('There are {} Customer observations'\\\n",
    "      .format(len(ml[ml['subscription_type'] == 'Customer'])))\n",
    "print()\n",
    "print('There are {} observations in this dataset'.format(len(ml)))"
   ]
  },
  {
   "cell_type": "markdown",
   "metadata": {},
   "source": [
    "Notice that we have imbalanced classes with a 21:4 ratio"
   ]
  },
  {
   "cell_type": "code",
   "execution_count": 53,
   "metadata": {
    "collapsed": true
   },
   "outputs": [],
   "source": [
    "# Set features and labels\n",
    "feature = ml.iloc[:, 0:-1]\n",
    "label = ml['subscription_type']"
   ]
  },
  {
   "cell_type": "markdown",
   "metadata": {},
   "source": [
    "### Run different models and check accuracy"
   ]
  },
  {
   "cell_type": "markdown",
   "metadata": {},
   "source": [
    "### LinearSVC"
   ]
  },
  {
   "cell_type": "code",
   "execution_count": 54,
   "metadata": {
    "collapsed": true
   },
   "outputs": [],
   "source": [
    "linear = LinearSVC()\n",
    "\n",
    "X_train, X_test, y_train, y_test = train_test_split(feature,\n",
    "                                                    label,\n",
    "                                                    random_state=4)\n",
    "\n",
    "linear.fit(X_train, y_train)\n",
    "y_pred = linear.predict(X_test)"
   ]
  },
  {
   "cell_type": "code",
   "execution_count": 55,
   "metadata": {},
   "outputs": [
    {
     "name": "stdout",
     "output_type": "stream",
     "text": [
      "             precision    recall  f1-score   support\n",
      "\n",
      "   Customer       0.93      0.14      0.25     25736\n",
      " Subscriber       0.87      1.00      0.93    141680\n",
      "\n",
      "avg / total       0.87      0.87      0.82    167416\n",
      "\n"
     ]
    }
   ],
   "source": [
    "print(metrics.classification_report(y_test, y_pred))"
   ]
  },
  {
   "cell_type": "code",
   "execution_count": 56,
   "metadata": {},
   "outputs": [
    {
     "name": "stdout",
     "output_type": "stream",
     "text": [
      "Best cross_validation score: 0.88\n",
      "Best parameters:  {'C': 10}\n"
     ]
    }
   ],
   "source": [
    "# Linear SVC with GridSearchCV\n",
    "X_test, X_train, y_test, y_train = train_test_split(feature,\n",
    "                                                    label,\n",
    "                                                    test_size = 0.3,\n",
    "                                                    random_state = 4)\n",
    "\n",
    "param_grid = {'C': [0.1, 1, 10]}\n",
    "grid = GridSearchCV(LinearSVC(), param_grid=param_grid, cv=5)\n",
    "grid.fit(X_train, y_train)\n",
    "\n",
    "print('Best cross_validation score: {:.2f}'.format(grid.best_score_))\n",
    "print('Best parameters: ', grid.best_params_)"
   ]
  },
  {
   "cell_type": "markdown",
   "metadata": {},
   "source": [
    "### Logistic Regression"
   ]
  },
  {
   "cell_type": "code",
   "execution_count": 57,
   "metadata": {
    "collapsed": true
   },
   "outputs": [],
   "source": [
    "logistic = LogisticRegression()\n",
    "\n",
    "X_train, X_test, y_train, y_test = train_test_split(feature,\n",
    "                                                    label,\n",
    "                                                    random_state=4)\n",
    "\n",
    "logistic.fit(X_train, y_train)\n",
    "y_pred = logistic.predict(X_test)"
   ]
  },
  {
   "cell_type": "code",
   "execution_count": 58,
   "metadata": {},
   "outputs": [
    {
     "name": "stdout",
     "output_type": "stream",
     "text": [
      "             precision    recall  f1-score   support\n",
      "\n",
      "   Customer       0.92      0.23      0.37     25736\n",
      " Subscriber       0.88      1.00      0.93    141680\n",
      "\n",
      "avg / total       0.88      0.88      0.85    167416\n",
      "\n"
     ]
    }
   ],
   "source": [
    "print(metrics.classification_report(y_test, y_pred))"
   ]
  },
  {
   "cell_type": "code",
   "execution_count": 59,
   "metadata": {},
   "outputs": [
    {
     "name": "stdout",
     "output_type": "stream",
     "text": [
      "Best cross_validation score: 0.88\n",
      "Best parameters:  {'C': 1}\n"
     ]
    }
   ],
   "source": [
    "# Linear SVC with GridSearchCV\n",
    "X_test, X_train, y_test, y_train = train_test_split(feature,\n",
    "                                                    label,\n",
    "                                                    test_size = 0.3,\n",
    "                                                    random_state = 4)\n",
    "\n",
    "param_grid = {'C': [0.1, 1, 10]}\n",
    "grid = GridSearchCV(LogisticRegression(), param_grid=param_grid, cv=5)\n",
    "grid.fit(X_train, y_train)\n",
    "\n",
    "print('Best cross_validation score: {:.2f}'.format(grid.best_score_))\n",
    "print('Best parameters: ', grid.best_params_)"
   ]
  },
  {
   "cell_type": "markdown",
   "metadata": {},
   "source": [
    "### Naive Bayes"
   ]
  },
  {
   "cell_type": "code",
   "execution_count": 60,
   "metadata": {
    "collapsed": true
   },
   "outputs": [],
   "source": [
    "bayes = MultinomialNB()\n",
    "\n",
    "X_train, X_test, y_train, y_test = train_test_split(feature,\n",
    "                                                    label,\n",
    "                                                    random_state=4)\n",
    "\n",
    "bayes.fit(X_train, y_train)\n",
    "y_pred = bayes.predict(X_test)"
   ]
  },
  {
   "cell_type": "code",
   "execution_count": 61,
   "metadata": {},
   "outputs": [
    {
     "name": "stdout",
     "output_type": "stream",
     "text": [
      "             precision    recall  f1-score   support\n",
      "\n",
      "   Customer       0.78      0.36      0.50     25736\n",
      " Subscriber       0.89      0.98      0.94    141680\n",
      "\n",
      "avg / total       0.88      0.89      0.87    167416\n",
      "\n"
     ]
    }
   ],
   "source": [
    "print(metrics.classification_report(y_test, y_pred))"
   ]
  },
  {
   "cell_type": "code",
   "execution_count": 62,
   "metadata": {},
   "outputs": [
    {
     "name": "stdout",
     "output_type": "stream",
     "text": [
      "Best cross_validation score: 0.89\n",
      "Best parameters:  {'alpha': 0.1}\n"
     ]
    }
   ],
   "source": [
    "# Linear SVC with GridSearchCV\n",
    "X_test, X_train, y_test, y_train = train_test_split(feature,\n",
    "                                                    label,\n",
    "                                                    test_size = 0.3,\n",
    "                                                    random_state = 4)\n",
    "\n",
    "param_grid = {'alpha': [0.1, 1, 10]}\n",
    "grid = GridSearchCV(MultinomialNB(), param_grid=param_grid, cv=5)\n",
    "grid.fit(X_train, y_train)\n",
    "\n",
    "print('Best cross_validation score: {:.2f}'.format(grid.best_score_))\n",
    "print('Best parameters: ', grid.best_params_)"
   ]
  },
  {
   "cell_type": "markdown",
   "metadata": {},
   "source": [
    "### Random Forest"
   ]
  },
  {
   "cell_type": "code",
   "execution_count": 63,
   "metadata": {
    "collapsed": true
   },
   "outputs": [],
   "source": [
    "forest = RandomForestClassifier()\n",
    "\n",
    "X_train, X_test, y_train, y_test = train_test_split(feature,\n",
    "                                                    label,\n",
    "                                                    random_state=4)\n",
    "\n",
    "forest.fit(X_train, y_train)\n",
    "y_pred = forest.predict(X_test)"
   ]
  },
  {
   "cell_type": "code",
   "execution_count": 64,
   "metadata": {},
   "outputs": [
    {
     "name": "stdout",
     "output_type": "stream",
     "text": [
      "             precision    recall  f1-score   support\n",
      "\n",
      "   Customer       0.74      0.62      0.67     25736\n",
      " Subscriber       0.93      0.96      0.95    141680\n",
      "\n",
      "avg / total       0.90      0.91      0.90    167416\n",
      "\n"
     ]
    }
   ],
   "source": [
    "print(metrics.classification_report(y_test, y_pred))"
   ]
  },
  {
   "cell_type": "code",
   "execution_count": 65,
   "metadata": {},
   "outputs": [
    {
     "name": "stdout",
     "output_type": "stream",
     "text": [
      "Best cross_validation score: 0.90\n",
      "Best parameters:  {'n_estimators': 20}\n"
     ]
    }
   ],
   "source": [
    "# Random Forest Classifier with GridSearchCV\n",
    "X_test, X_train, y_test, y_train = train_test_split(feature,\n",
    "                                                    label,\n",
    "                                                    test_size = 0.3,\n",
    "                                                    random_state = 4)\n",
    "\n",
    "param_grid = {'n_estimators': [10, 15, 20]}\n",
    "grid = GridSearchCV(RandomForestClassifier(), param_grid=param_grid, cv=5)\n",
    "grid.fit(X_train, y_train)\n",
    "y_pred = grid.predict(X_test)\n",
    "\n",
    "print('Best cross_validation score: {:.2f}'.format(grid.best_score_))\n",
    "print('Best parameters: ', grid.best_params_)"
   ]
  },
  {
   "cell_type": "markdown",
   "metadata": {},
   "source": [
    "Feature Importance"
   ]
  },
  {
   "cell_type": "code",
   "execution_count": 66,
   "metadata": {},
   "outputs": [
    {
     "name": "stdout",
     "output_type": "stream",
     "text": [
      "Feature Importance\n",
      "===========================\n",
      "0.55  duration\n",
      "0.13  start_station_id\n",
      "0.13  end_station_id\n",
      "0.10  mean_temperature_f\n",
      "0.09  mean_wind_speed_mph\n",
      "0.01  precipitation_inches\n"
     ]
    }
   ],
   "source": [
    "print('Feature Importance')\n",
    "print('===========================')\n",
    "\n",
    "for index, value in enumerate(forest.feature_importances_):\n",
    "    print('{:.2f}  {}'.format(value, col_to_keep[index]))"
   ]
  },
  {
   "cell_type": "markdown",
   "metadata": {},
   "source": [
    "Based on this model, precipitation and wind speed have less than a 10% impact on the model. We can safely drop it in future model improvements"
   ]
  },
  {
   "cell_type": "markdown",
   "metadata": {},
   "source": [
    "#### Feature Engineering"
   ]
  },
  {
   "cell_type": "markdown",
   "metadata": {},
   "source": [
    "###### Get distance between two stations (in miles)"
   ]
  },
  {
   "cell_type": "markdown",
   "metadata": {},
   "source": [
    "Get the distance between any two stations. End goal is to create a distance/duration ratio to add to the model. Subscribers tend to get to where they are going as fast as possible while customers tend to take longer rides in terms of duration. If a rider takes longer duration to go between the same two stations, this could help the model to make a correct prediction."
   ]
  },
  {
   "cell_type": "code",
   "execution_count": 67,
   "metadata": {
    "collapsed": true
   },
   "outputs": [],
   "source": [
    "import math\n",
    "\n",
    "def distances(origin, destination):\n",
    "    lat1, lon1 = origin\n",
    "    lat2, lon2 = destination\n",
    "    radius = 3959 # km\n",
    "    # miles 3959\n",
    "    # km = 6371\n",
    "    dlat = math.radians(lat2-lat1)\n",
    "    dlon = math.radians(lon2-lon1)\n",
    "    a = math.sin(dlat/2) * math.sin(dlat/2) + math.cos(math.radians(lat1)) \\\n",
    "        * math.cos(math.radians(lat2)) * math.sin(dlon/2) * math.sin(dlon/2)\n",
    "    c = 2 * math.atan2(math.sqrt(a), math.sqrt(1-a))\n",
    "    d = radius * c\n",
    "\n",
    "    return d"
   ]
  },
  {
   "cell_type": "code",
   "execution_count": 68,
   "metadata": {
    "scrolled": true
   },
   "outputs": [
    {
     "data": {
      "text/html": [
       "<div>\n",
       "<style scoped>\n",
       "    .dataframe tbody tr th:only-of-type {\n",
       "        vertical-align: middle;\n",
       "    }\n",
       "\n",
       "    .dataframe tbody tr th {\n",
       "        vertical-align: top;\n",
       "    }\n",
       "\n",
       "    .dataframe thead th {\n",
       "        text-align: right;\n",
       "    }\n",
       "</style>\n",
       "<table border=\"1\" class=\"dataframe\">\n",
       "  <thead>\n",
       "    <tr style=\"text-align: right;\">\n",
       "      <th></th>\n",
       "      <th>start_station_id</th>\n",
       "      <th>origin</th>\n",
       "      <th>end_station_id</th>\n",
       "      <th>destination</th>\n",
       "      <th>count</th>\n",
       "      <th>distance</th>\n",
       "    </tr>\n",
       "  </thead>\n",
       "  <tbody>\n",
       "    <tr>\n",
       "      <th>0</th>\n",
       "      <td>69</td>\n",
       "      <td>(37.7766, -122.39547)</td>\n",
       "      <td>65</td>\n",
       "      <td>(37.771058, -122.402717)</td>\n",
       "      <td>6215</td>\n",
       "      <td>0.550734</td>\n",
       "    </tr>\n",
       "    <tr>\n",
       "      <th>1</th>\n",
       "      <td>50</td>\n",
       "      <td>(37.795392, -122.394203)</td>\n",
       "      <td>60</td>\n",
       "      <td>(37.80477, -122.403234)</td>\n",
       "      <td>6164</td>\n",
       "      <td>0.814261</td>\n",
       "    </tr>\n",
       "    <tr>\n",
       "      <th>2</th>\n",
       "      <td>65</td>\n",
       "      <td>(37.771058, -122.402717)</td>\n",
       "      <td>70</td>\n",
       "      <td>(37.776617, -122.39526)</td>\n",
       "      <td>5041</td>\n",
       "      <td>0.559839</td>\n",
       "    </tr>\n",
       "    <tr>\n",
       "      <th>3</th>\n",
       "      <td>61</td>\n",
       "      <td>(37.780526, -122.39028799999998)</td>\n",
       "      <td>50</td>\n",
       "      <td>(37.795392, -122.394203)</td>\n",
       "      <td>4839</td>\n",
       "      <td>1.049216</td>\n",
       "    </tr>\n",
       "    <tr>\n",
       "      <th>4</th>\n",
       "      <td>50</td>\n",
       "      <td>(37.795392, -122.394203)</td>\n",
       "      <td>61</td>\n",
       "      <td>(37.780526, -122.39028799999998)</td>\n",
       "      <td>4357</td>\n",
       "      <td>1.049216</td>\n",
       "    </tr>\n",
       "  </tbody>\n",
       "</table>\n",
       "</div>"
      ],
      "text/plain": [
       "   start_station_id                            origin  end_station_id  \\\n",
       "0                69             (37.7766, -122.39547)              65   \n",
       "1                50          (37.795392, -122.394203)              60   \n",
       "2                65          (37.771058, -122.402717)              70   \n",
       "3                61  (37.780526, -122.39028799999998)              50   \n",
       "4                50          (37.795392, -122.394203)              61   \n",
       "\n",
       "                        destination  count  distance  \n",
       "0          (37.771058, -122.402717)   6215  0.550734  \n",
       "1           (37.80477, -122.403234)   6164  0.814261  \n",
       "2           (37.776617, -122.39526)   5041  0.559839  \n",
       "3          (37.795392, -122.394203)   4839  1.049216  \n",
       "4  (37.780526, -122.39028799999998)   4357  1.049216  "
      ]
     },
     "execution_count": 68,
     "metadata": {},
     "output_type": "execute_result"
    }
   ],
   "source": [
    "# Create dictionary with coordinates for each station\n",
    "station_coordinates_map = dict(zip(station['id'], zip(station['lat'], station['long'])))\n",
    "\n",
    "ml_agg = trip_clean.groupby(['start_station_id', 'end_station_id']).size().reset_index().rename(columns={0:'count'}).sort_values(by='count', ascending=False).reset_index(drop=True)\n",
    "\n",
    "ml_agg['origin'] = ml_agg['start_station_id'].map(station_coordinates_map)\n",
    "ml_agg['destination'] = ml_agg['end_station_id'].map(station_coordinates_map)\n",
    "\n",
    "# Re-arange columns\n",
    "ml_agg = ml_agg[['start_station_id', 'origin', 'end_station_id', 'destination', 'count']]\n",
    "\n",
    "# Add distance column to agg dataframe\n",
    "distance = []\n",
    "\n",
    "for start, end in zip(ml_agg.origin, ml_agg.destination):\n",
    "    d = distances(start, end)\n",
    "    distance.append(d)\n",
    "\n",
    "ml_agg['distance'] = distance\n",
    "\n",
    "\n",
    "ml_agg.head()"
   ]
  },
  {
   "cell_type": "code",
   "execution_count": 69,
   "metadata": {
    "collapsed": true
   },
   "outputs": [],
   "source": [
    "# Add city in integer format\n",
    "cities_dict = {'San Francisco':1, 'San Jose':2, 'Mountain View':3, 'Redwood City':4, 'Palo Alto': 5}\n",
    "df['cities'] = df['city'].map(cities_dict)\n",
    "\n",
    "# Add time series to model features\n",
    "time = pd.DatetimeIndex(df['start_date'])\n",
    "df['hour'] = time.hour\n",
    "df['weekday'] = time.weekday\n",
    "\n",
    "# Create map with station_id combination as tuple dict\n",
    "stations_distance_dict = dict(zip(zip(ml_agg['start_station_id'], ml_agg['end_station_id']), ml_agg['distance']))\n",
    "\n",
    "# Add distance to model features\n",
    "df['stations_tuple'] = tuple(zip(df['start_station_id'], df['end_station_id']))\n",
    "df['distance'] = df['stations_tuple'].map(stations_distance_dict)\n",
    "df['distance_duration_ratio'] = df['distance'] / df['duration']"
   ]
  },
  {
   "cell_type": "code",
   "execution_count": 70,
   "metadata": {
    "collapsed": true
   },
   "outputs": [],
   "source": [
    "selected_features = ['duration', 'distance_duration_ratio', 'start_station_id', 'end_station_id', 'mean_temperature_f', 'subscription_type']\n",
    "\n",
    "ml_1 = df[selected_features]"
   ]
  },
  {
   "cell_type": "code",
   "execution_count": 71,
   "metadata": {
    "collapsed": true
   },
   "outputs": [],
   "source": [
    "# Set features and labels\n",
    "feature = ml_1.iloc[:, 0:-1]\n",
    "label = ml_1['subscription_type']"
   ]
  },
  {
   "cell_type": "code",
   "execution_count": 108,
   "metadata": {
    "collapsed": true
   },
   "outputs": [],
   "source": [
    "forest = RandomForestClassifier()\n",
    "\n",
    "X_train, X_test, y_train, y_test = train_test_split(feature,\n",
    "                                                    label,\n",
    "                                                    random_state=4)\n",
    "\n",
    "forest.fit(X_train, y_train)\n",
    "y_pred = forest.predict(X_test)"
   ]
  },
  {
   "cell_type": "code",
   "execution_count": 109,
   "metadata": {},
   "outputs": [
    {
     "name": "stdout",
     "output_type": "stream",
     "text": [
      "             precision    recall  f1-score   support\n",
      "\n",
      "   Customer       0.69      0.62      0.65     25736\n",
      " Subscriber       0.93      0.95      0.94    141680\n",
      "\n",
      "avg / total       0.90      0.90      0.90    167416\n",
      "\n"
     ]
    }
   ],
   "source": [
    "print(metrics.classification_report(y_test, y_pred))"
   ]
  },
  {
   "cell_type": "code",
   "execution_count": 110,
   "metadata": {},
   "outputs": [
    {
     "name": "stdout",
     "output_type": "stream",
     "text": [
      "Best cross_validation score: 0.90\n",
      "Best parameters:  {'n_estimators': 30}\n"
     ]
    }
   ],
   "source": [
    "# Random Forest Classifier with GridSearchCV\n",
    "X_test, X_train, y_test, y_train = train_test_split(feature,\n",
    "                                                    label,\n",
    "                                                    test_size = 0.3,\n",
    "                                                    random_state = 4)\n",
    "\n",
    "param_grid = {'n_estimators': [15, 20, 30]}\n",
    "grid = GridSearchCV(RandomForestClassifier(), param_grid=param_grid, cv=5)\n",
    "grid.fit(X_train, y_train)\n",
    "y_pred = grid.predict(X_test)\n",
    "\n",
    "print('Best cross_validation score: {:.2f}'.format(grid.best_score_))\n",
    "print('Best parameters: ', grid.best_params_)"
   ]
  },
  {
   "cell_type": "code",
   "execution_count": 111,
   "metadata": {},
   "outputs": [
    {
     "name": "stdout",
     "output_type": "stream",
     "text": [
      "Feature Importance\n",
      "===========================\n",
      "0.32  duration\n",
      "0.40  distance_duration_ratio\n",
      "0.08  start_station_id\n",
      "0.08  end_station_id\n",
      "0.12  mean_temperature_f\n"
     ]
    }
   ],
   "source": [
    "print('Feature Importance')\n",
    "print('===========================')\n",
    "\n",
    "for index, value in enumerate(forest.feature_importances_):\n",
    "    print('{:.2f}  {}'.format(value, selected_features[index]))"
   ]
  },
  {
   "cell_type": "code",
   "execution_count": null,
   "metadata": {
    "collapsed": true
   },
   "outputs": [],
   "source": []
  },
  {
   "cell_type": "markdown",
   "metadata": {},
   "source": [
    "### ==== Future Improvements ==="
   ]
  },
  {
   "cell_type": "markdown",
   "metadata": {},
   "source": [
    "# Find out when stations are empty"
   ]
  },
  {
   "cell_type": "code",
   "execution_count": 76,
   "metadata": {},
   "outputs": [
    {
     "data": {
      "text/plain": [
       "(71984434, 3)"
      ]
     },
     "execution_count": 76,
     "metadata": {},
     "output_type": "execute_result"
    }
   ],
   "source": [
    "status.shape"
   ]
  },
  {
   "cell_type": "code",
   "execution_count": 77,
   "metadata": {
    "collapsed": true
   },
   "outputs": [],
   "source": [
    "# Find station capacity\n",
    "status['station_capacity'] = status['bikes_available'] / (status['bikes_available'] + status['docks_available'])\n",
    "\n",
    "# Add city\n",
    "station_city_dict = dict(zip(station['id'], station['city']))\n",
    "status['city'] = status['station_id'].map(station_city_dict)\n",
    "\n",
    "# 240 rows have 0 bikes available and 0 docks available. Drop those rows.\n",
    "status = status[pd.notnull(status['station_capacity'])]"
   ]
  },
  {
   "cell_type": "code",
   "execution_count": 78,
   "metadata": {},
   "outputs": [
    {
     "data": {
      "text/plain": [
       "(71984194, 5)"
      ]
     },
     "execution_count": 78,
     "metadata": {},
     "output_type": "execute_result"
    }
   ],
   "source": [
    "status.shape"
   ]
  },
  {
   "cell_type": "markdown",
   "metadata": {},
   "source": [
    "**Feature engineering**"
   ]
  },
  {
   "cell_type": "markdown",
   "metadata": {
    "collapsed": true
   },
   "source": [
    "Let's create a model that'll allow us to predict when stations are going to empty.\n",
    "\n",
    "As we've seen from the graph above, riders tend to ride the most during the week at commute times (between 7 and 9 in the morning, and 4 and 6 in the afternoon). Commute times is also when stations are being used the most and therefore have a greater likelihood of not having bikes available when riders would need a ride. \n",
    "\n",
    "Since we know this, let's create commute time columns for our model."
   ]
  },
  {
   "cell_type": "code",
   "execution_count": 86,
   "metadata": {},
   "outputs": [
    {
     "data": {
      "text/html": [
       "<div>\n",
       "<style scoped>\n",
       "    .dataframe tbody tr th:only-of-type {\n",
       "        vertical-align: middle;\n",
       "    }\n",
       "\n",
       "    .dataframe tbody tr th {\n",
       "        vertical-align: top;\n",
       "    }\n",
       "\n",
       "    .dataframe thead th {\n",
       "        text-align: right;\n",
       "    }\n",
       "</style>\n",
       "<table border=\"1\" class=\"dataframe\">\n",
       "  <thead>\n",
       "    <tr style=\"text-align: right;\">\n",
       "      <th></th>\n",
       "      <th>index</th>\n",
       "      <th>time</th>\n",
       "      <th>station_id</th>\n",
       "      <th>bikes_available</th>\n",
       "      <th>docks_available</th>\n",
       "      <th>station_capacity</th>\n",
       "      <th>city</th>\n",
       "    </tr>\n",
       "  </thead>\n",
       "  <tbody>\n",
       "    <tr>\n",
       "      <th>0</th>\n",
       "      <td>0</td>\n",
       "      <td>2013-08-29 12:06:01</td>\n",
       "      <td>2</td>\n",
       "      <td>2</td>\n",
       "      <td>25</td>\n",
       "      <td>0.074074</td>\n",
       "      <td>San Jose</td>\n",
       "    </tr>\n",
       "    <tr>\n",
       "      <th>1</th>\n",
       "      <td>1</td>\n",
       "      <td>2013-08-29 12:07:01</td>\n",
       "      <td>2</td>\n",
       "      <td>2</td>\n",
       "      <td>25</td>\n",
       "      <td>0.074074</td>\n",
       "      <td>San Jose</td>\n",
       "    </tr>\n",
       "    <tr>\n",
       "      <th>2</th>\n",
       "      <td>2</td>\n",
       "      <td>2013-08-29 12:08:01</td>\n",
       "      <td>2</td>\n",
       "      <td>2</td>\n",
       "      <td>25</td>\n",
       "      <td>0.074074</td>\n",
       "      <td>San Jose</td>\n",
       "    </tr>\n",
       "    <tr>\n",
       "      <th>3</th>\n",
       "      <td>3</td>\n",
       "      <td>2013-08-29 12:09:01</td>\n",
       "      <td>2</td>\n",
       "      <td>2</td>\n",
       "      <td>25</td>\n",
       "      <td>0.074074</td>\n",
       "      <td>San Jose</td>\n",
       "    </tr>\n",
       "    <tr>\n",
       "      <th>4</th>\n",
       "      <td>4</td>\n",
       "      <td>2013-08-29 12:10:01</td>\n",
       "      <td>2</td>\n",
       "      <td>2</td>\n",
       "      <td>25</td>\n",
       "      <td>0.074074</td>\n",
       "      <td>San Jose</td>\n",
       "    </tr>\n",
       "  </tbody>\n",
       "</table>\n",
       "</div>"
      ],
      "text/plain": [
       "   index                time  station_id  bikes_available  docks_available  \\\n",
       "0      0 2013-08-29 12:06:01           2                2               25   \n",
       "1      1 2013-08-29 12:07:01           2                2               25   \n",
       "2      2 2013-08-29 12:08:01           2                2               25   \n",
       "3      3 2013-08-29 12:09:01           2                2               25   \n",
       "4      4 2013-08-29 12:10:01           2                2               25   \n",
       "\n",
       "   station_capacity      city  \n",
       "0          0.074074  San Jose  \n",
       "1          0.074074  San Jose  \n",
       "2          0.074074  San Jose  \n",
       "3          0.074074  San Jose  \n",
       "4          0.074074  San Jose  "
      ]
     },
     "execution_count": 86,
     "metadata": {},
     "output_type": "execute_result"
    }
   ],
   "source": [
    "status = status.reset_index()\n"
   ]
  },
  {
   "cell_type": "code",
   "execution_count": 89,
   "metadata": {},
   "outputs": [
    {
     "name": "stdout",
     "output_type": "stream",
     "text": [
      "<class 'pandas.core.frame.DataFrame'>\n",
      "RangeIndex: 71984194 entries, 0 to 71984193\n",
      "Data columns (total 6 columns):\n",
      "time                datetime64[ns]\n",
      "station_id          int64\n",
      "bikes_available     int64\n",
      "docks_available     int64\n",
      "station_capacity    float64\n",
      "city                object\n",
      "dtypes: datetime64[ns](1), float64(1), int64(3), object(1)\n",
      "memory usage: 3.2+ GB\n"
     ]
    }
   ],
   "source": [
    "del status['index']\n",
    "status.info()"
   ]
  },
  {
   "cell_type": "code",
   "execution_count": 101,
   "metadata": {},
   "outputs": [],
   "source": [
    "def bike_availability(x):\n",
    "    if x >= n_bikes:\n",
    "        return 1\n",
    "    else:\n",
    "        return 0\n",
    "\n",
    "def addition(a, b, c):\n",
    "    return(b + c*a)\n",
    "\n",
    "start_times = ['07:00:00', '07:30:00', '08:00:00', '08:30:00', '09:00:00', '16:00:00', '16:30:00', '17:00:00', '17:30:00', '18:00:00']\n",
    "n_bikes=2\n",
    "delta = pd.Timedelta(29, unit='m')\n",
    "\n",
    "unique_station_ids = status['station_id'].unique()\n",
    "\n",
    "# Subset status dataframe by station_id\n",
    "def empty_stations(station, bike_qty, day_of_week):\n",
    "    df = status[status['station_id'] == station]\n",
    "    df.index = df['time']\n",
    "    df.index = df.index.map(lambda x: x.replace(second=0))\n",
    "    return df\n",
    "\n",
    "all_stations = []\n",
    "headers = []\n",
    "\n",
    "for i in unique_station_ids:\n",
    "    df = empty_stations(i, bike_qty = 2, day_of_week = 2)\n",
    "    single_station = []\n",
    "    for j in start_times:\n",
    "        start_time = pd.to_datetime(j)\n",
    "        end_time = start_time + delta\n",
    "        df1 = df.between_time(start_time.time(), end_time.time())\n",
    "        data1 = df1.index.minute\n",
    "        data2 = np.array(df1.bikes_available)\n",
    "        popt, pcov = optimization.curve_fit(addition, data1, data2)\n",
    "        single_station.append(popt[1])\n",
    "    all_stations.append(single_station)\n",
    "    headers.append(i)\n",
    "    \n",
    "# Reshape data\n",
    "df = pd.DataFrame(all_stations)\n",
    "df.columns = start_times\n",
    "df.index = headers\n",
    "df = df*29"
   ]
  },
  {
   "cell_type": "code",
   "execution_count": 102,
   "metadata": {},
   "outputs": [
    {
     "data": {
      "text/html": [
       "<div>\n",
       "<style scoped>\n",
       "    .dataframe tbody tr th:only-of-type {\n",
       "        vertical-align: middle;\n",
       "    }\n",
       "\n",
       "    .dataframe tbody tr th {\n",
       "        vertical-align: top;\n",
       "    }\n",
       "\n",
       "    .dataframe thead th {\n",
       "        text-align: right;\n",
       "    }\n",
       "</style>\n",
       "<table border=\"1\" class=\"dataframe\">\n",
       "  <thead>\n",
       "    <tr style=\"text-align: right;\">\n",
       "      <th></th>\n",
       "      <th>07:00:00</th>\n",
       "      <th>07:30:00</th>\n",
       "      <th>08:00:00</th>\n",
       "      <th>08:30:00</th>\n",
       "      <th>09:00:00</th>\n",
       "      <th>16:00:00</th>\n",
       "      <th>16:30:00</th>\n",
       "      <th>17:00:00</th>\n",
       "      <th>17:30:00</th>\n",
       "      <th>18:00:00</th>\n",
       "    </tr>\n",
       "  </thead>\n",
       "  <tbody>\n",
       "    <tr>\n",
       "      <th>2</th>\n",
       "      <td>0.071571</td>\n",
       "      <td>-0.008874</td>\n",
       "      <td>-1.349618</td>\n",
       "      <td>-0.840703</td>\n",
       "      <td>-1.088687</td>\n",
       "      <td>1.538212</td>\n",
       "      <td>1.363790</td>\n",
       "      <td>0.518116</td>\n",
       "      <td>-0.204962</td>\n",
       "      <td>-0.325365</td>\n",
       "    </tr>\n",
       "    <tr>\n",
       "      <th>3</th>\n",
       "      <td>-0.050659</td>\n",
       "      <td>-0.026502</td>\n",
       "      <td>0.022995</td>\n",
       "      <td>0.071825</td>\n",
       "      <td>0.015884</td>\n",
       "      <td>-0.045014</td>\n",
       "      <td>-0.092257</td>\n",
       "      <td>0.076777</td>\n",
       "      <td>0.014564</td>\n",
       "      <td>0.036663</td>\n",
       "    </tr>\n",
       "    <tr>\n",
       "      <th>4</th>\n",
       "      <td>0.219059</td>\n",
       "      <td>0.179331</td>\n",
       "      <td>0.471934</td>\n",
       "      <td>0.148559</td>\n",
       "      <td>0.146814</td>\n",
       "      <td>-0.245785</td>\n",
       "      <td>-0.428358</td>\n",
       "      <td>-0.132463</td>\n",
       "      <td>0.088545</td>\n",
       "      <td>-0.163810</td>\n",
       "    </tr>\n",
       "    <tr>\n",
       "      <th>5</th>\n",
       "      <td>0.007127</td>\n",
       "      <td>0.043489</td>\n",
       "      <td>0.142568</td>\n",
       "      <td>0.190728</td>\n",
       "      <td>0.201190</td>\n",
       "      <td>-0.198139</td>\n",
       "      <td>-0.110377</td>\n",
       "      <td>-0.162401</td>\n",
       "      <td>-0.039427</td>\n",
       "      <td>-0.045294</td>\n",
       "    </tr>\n",
       "    <tr>\n",
       "      <th>6</th>\n",
       "      <td>-0.025032</td>\n",
       "      <td>0.735592</td>\n",
       "      <td>0.131959</td>\n",
       "      <td>0.137939</td>\n",
       "      <td>-0.027278</td>\n",
       "      <td>-0.205531</td>\n",
       "      <td>-0.556993</td>\n",
       "      <td>-0.381991</td>\n",
       "      <td>0.001361</td>\n",
       "      <td>0.108984</td>\n",
       "    </tr>\n",
       "  </tbody>\n",
       "</table>\n",
       "</div>"
      ],
      "text/plain": [
       "   07:00:00  07:30:00  08:00:00  08:30:00  09:00:00  16:00:00  16:30:00  \\\n",
       "2  0.071571 -0.008874 -1.349618 -0.840703 -1.088687  1.538212  1.363790   \n",
       "3 -0.050659 -0.026502  0.022995  0.071825  0.015884 -0.045014 -0.092257   \n",
       "4  0.219059  0.179331  0.471934  0.148559  0.146814 -0.245785 -0.428358   \n",
       "5  0.007127  0.043489  0.142568  0.190728  0.201190 -0.198139 -0.110377   \n",
       "6 -0.025032  0.735592  0.131959  0.137939 -0.027278 -0.205531 -0.556993   \n",
       "\n",
       "   17:00:00  17:30:00  18:00:00  \n",
       "2  0.518116 -0.204962 -0.325365  \n",
       "3  0.076777  0.014564  0.036663  \n",
       "4 -0.132463  0.088545 -0.163810  \n",
       "5 -0.162401 -0.039427 -0.045294  \n",
       "6 -0.381991  0.001361  0.108984  "
      ]
     },
     "execution_count": 102,
     "metadata": {},
     "output_type": "execute_result"
    }
   ],
   "source": [
    "df.head()"
   ]
  },
  {
   "cell_type": "code",
   "execution_count": 103,
   "metadata": {},
   "outputs": [
    {
     "name": "stderr",
     "output_type": "stream",
     "text": [
      "/anaconda3/lib/python3.6/site-packages/ipykernel_launcher.py:2: SettingWithCopyWarning:\n",
      "\n",
      "\n",
      "A value is trying to be set on a copy of a slice from a DataFrame.\n",
      "Try using .loc[row_indexer,col_indexer] = value instead\n",
      "\n",
      "See the caveats in the documentation: http://pandas.pydata.org/pandas-docs/stable/indexing.html#indexing-view-versus-copy\n",
      "\n"
     ]
    },
    {
     "data": {
      "text/html": [
       "<div>\n",
       "<style scoped>\n",
       "    .dataframe tbody tr th:only-of-type {\n",
       "        vertical-align: middle;\n",
       "    }\n",
       "\n",
       "    .dataframe tbody tr th {\n",
       "        vertical-align: top;\n",
       "    }\n",
       "\n",
       "    .dataframe thead th {\n",
       "        text-align: right;\n",
       "    }\n",
       "</style>\n",
       "<table border=\"1\" class=\"dataframe\">\n",
       "  <thead>\n",
       "    <tr style=\"text-align: right;\">\n",
       "      <th></th>\n",
       "      <th>station_id</th>\n",
       "      <th>variable</th>\n",
       "      <th>value</th>\n",
       "    </tr>\n",
       "  </thead>\n",
       "  <tbody>\n",
       "    <tr>\n",
       "      <th>0</th>\n",
       "      <td>2</td>\n",
       "      <td>07:00:00</td>\n",
       "      <td>0.071571</td>\n",
       "    </tr>\n",
       "    <tr>\n",
       "      <th>1</th>\n",
       "      <td>3</td>\n",
       "      <td>07:00:00</td>\n",
       "      <td>-0.050659</td>\n",
       "    </tr>\n",
       "    <tr>\n",
       "      <th>2</th>\n",
       "      <td>4</td>\n",
       "      <td>07:00:00</td>\n",
       "      <td>0.219059</td>\n",
       "    </tr>\n",
       "    <tr>\n",
       "      <th>3</th>\n",
       "      <td>5</td>\n",
       "      <td>07:00:00</td>\n",
       "      <td>0.007127</td>\n",
       "    </tr>\n",
       "    <tr>\n",
       "      <th>4</th>\n",
       "      <td>6</td>\n",
       "      <td>07:00:00</td>\n",
       "      <td>-0.025032</td>\n",
       "    </tr>\n",
       "  </tbody>\n",
       "</table>\n",
       "</div>"
      ],
      "text/plain": [
       "   station_id  variable     value\n",
       "0           2  07:00:00  0.071571\n",
       "1           3  07:00:00 -0.050659\n",
       "2           4  07:00:00  0.219059\n",
       "3           5  07:00:00  0.007127\n",
       "4           6  07:00:00 -0.025032"
      ]
     },
     "execution_count": 103,
     "metadata": {},
     "output_type": "execute_result"
    }
   ],
   "source": [
    "ml = df[:]\n",
    "ml['station_id'] = ml.index\n",
    "ml = pd.melt(ml, id_vars = ['station_id'])\n",
    "ml.head()"
   ]
  },
  {
   "cell_type": "code",
   "execution_count": null,
   "metadata": {
    "collapsed": true
   },
   "outputs": [],
   "source": []
  },
  {
   "cell_type": "code",
   "execution_count": null,
   "metadata": {
    "collapsed": true
   },
   "outputs": [],
   "source": []
  }
 ],
 "metadata": {
  "kernelspec": {
   "display_name": "Python 3",
   "language": "python",
   "name": "python3"
  },
  "language_info": {
   "codemirror_mode": {
    "name": "ipython",
    "version": 3
   },
   "file_extension": ".py",
   "mimetype": "text/x-python",
   "name": "python",
   "nbconvert_exporter": "python",
   "pygments_lexer": "ipython3",
   "version": "3.6.3"
  }
 },
 "nbformat": 4,
 "nbformat_minor": 2
}
